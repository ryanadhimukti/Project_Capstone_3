{
 "cells": [
  {
   "cell_type": "markdown",
   "metadata": {},
   "source": [
    "# Telecomunication Customer Churn"
   ]
  },
  {
   "cell_type": "markdown",
   "metadata": {},
   "source": [
    "## Business Problem Understanding"
   ]
  },
  {
   "cell_type": "markdown",
   "metadata": {},
   "source": [
    "**Context**  \n",
    "Sebuah perusahaan yang bergerak di bidang telekomunikasi memiliki data yang mewakili profil pelanggan yang telah meninggalkan perusahaan telekomunikasi. Peralihan layanan telekomunikasi dan layanan berbasis langganan lainnya berarti situasi ketika pelanggan meninggalkan penyedia layanan.\n",
    "\n",
    "Target :\n",
    "\n",
    "Yes : Meninggalkan penyedia langganan\n",
    "\n",
    "No : Tidak meninggalkan penyedia langganan"
   ]
  },
  {
   "cell_type": "markdown",
   "metadata": {},
   "source": [
    "**Problem Statement :**\n",
    "\n",
    "Jika customer meninggalkan penyedia langganan, perusahaan telekomunikasi akan kehilangan pemasukannya dan perlu biaya, waktu, dan usaha untuk menggantikan pelanggan yang meninggalkan penyedia pelanggan. \n",
    "\n",
    "**Goals :**\n",
    "\n",
    "Maka berdasarkan permasalahan tersebut, perusahaan telekomunikasi ingin memprediksi kemungkinan seorang customer yang akan meninggalkan penyedia langganan perusahaan tersebut atau tidak.\n",
    "\n",
    "Dan juga, perusahaan ingin mengetahui faktor apa yang membuat seorang customer akan meninggalkan penyedia langganan perusahaan tersebut atau tidak.\n",
    "\n",
    "**Analytic Approach :**\n",
    "\n",
    "Jadi yang akan kita lakukan adalah menganalisis data untuk menemukan pola yang membedakan customer akan meninggalkan penyedia langganan perusahaan tersebut atau tidak.\n",
    "\n",
    "Kemudian kita akan membangun model klasifikasi yang akan membantu perusahaan untuk dapat memprediksi probabilitas seorang customer akan meninggalkan penyedia langganan perusahaan tersebut atau tidak."
   ]
  },
  {
   "cell_type": "markdown",
   "metadata": {},
   "source": [
    "**Metric Evaluation**\n",
    "\n",
    "Type 1 error : False Positive  \n",
    "Konsekuensi: sia-sianya biaya, waktu dan usaha\n",
    "\n",
    "Type 2 error : False Negative  \n",
    "Konsekuensi: kehilangan pemasukkan jadi tidak terduga dan lebih besar daripada yang sudah pasti meninggalkan penyedia langganan\n",
    "\n",
    "Berdasarkan konsekuensinya, maka sebisa mungkin yang akan kita lakukan adalah membuat model yang dapat mencegah kehilangan pemasukkan perusahaan tersebut dan meminimalisir pengeluaran untuk mencari pelanggan baru. Jadi nanti metric utama yang akan kita gunakan adalah Precision-Recall Score."
   ]
  },
  {
   "cell_type": "markdown",
   "metadata": {},
   "source": [
    "## Data Understanding\n",
    "\n",
    "- `Dependents` - Customer memiliki tanggungan atau tidak\n",
    "- `Tenure` - Lamanya customer tetap di perusahaan (bulan)\n",
    "- `OnlineSecurity` - Customer memiliki keamanam online atau tidak\n",
    "- `OnlineBackup` - Customer memiliki Back up online atau tidak\n",
    "- `InternetService` - Penyedia layanan internet customer\n",
    "- `DeviceProtection` - Customer memiliki perlindungan perangkat atau tidak\n",
    "- `TechSupport` - Customer memiliki dukungan teknis atau tidak\n",
    "- `Contract` - Jenis kontrak berdasarkan durasi\n",
    "- `PaperlessBilling` - Tagihan diterbitkan dalam bentuk paperless\n",
    "- `MonthlyCharges` - Jumlah biaya layanan per bulan\n",
    "- `Churn` - Customer meninggalkan atau tidak"
   ]
  },
  {
   "cell_type": "code",
   "execution_count": 71,
   "metadata": {},
   "outputs": [],
   "source": [
    "# Library\n",
    "\n",
    "import pandas as pd\n",
    "import numpy as np\n",
    "\n",
    "# Visualization\n",
    "import matplotlib.pyplot as plt\n",
    "import seaborn as sns\n",
    "\n",
    "# Feature Engineering\n",
    "from sklearn.preprocessing import OneHotEncoder, LabelEncoder, MinMaxScaler\n",
    "\n",
    "# Model Selection\n",
    "from sklearn.linear_model import LogisticRegression\n",
    "from sklearn.tree import DecisionTreeClassifier\n",
    "from sklearn.model_selection import GridSearchCV,train_test_split, cross_val_score\n",
    "from sklearn.metrics import confusion_matrix\n",
    "from sklearn.neighbors import KNeighborsClassifier\n",
    "from sklearn.ensemble import RandomForestClassifier, AdaBoostClassifier, GradientBoostingClassifier\n",
    "from xgboost.sklearn import  XGBClassifier\n",
    "import lightgbm as lgb\n",
    "from sklearn.metrics import f1_score, recall_score, precision_score, precision_recall_curve, PrecisionRecallDisplay\n",
    "\n",
    "# Imbalance Dataset\n",
    "from imblearn.over_sampling import SMOTE\n",
    "\n",
    "# Ignore Warning\n",
    "import sys\n",
    "import warnings\n",
    "if not sys.warnoptions:\n",
    "    warnings.simplefilter(\"ignore\")\n",
    "\n",
    "# Set max columns\n",
    "pd.set_option('display.max_columns', None)\n",
    "\n",
    "import pickle"
   ]
  },
  {
   "cell_type": "code",
   "execution_count": 72,
   "metadata": {},
   "outputs": [
    {
     "data": {
      "text/html": [
       "<div>\n",
       "<style scoped>\n",
       "    .dataframe tbody tr th:only-of-type {\n",
       "        vertical-align: middle;\n",
       "    }\n",
       "\n",
       "    .dataframe tbody tr th {\n",
       "        vertical-align: top;\n",
       "    }\n",
       "\n",
       "    .dataframe thead th {\n",
       "        text-align: right;\n",
       "    }\n",
       "</style>\n",
       "<table border=\"1\" class=\"dataframe\">\n",
       "  <thead>\n",
       "    <tr style=\"text-align: right;\">\n",
       "      <th></th>\n",
       "      <th>Dependents</th>\n",
       "      <th>tenure</th>\n",
       "      <th>OnlineSecurity</th>\n",
       "      <th>OnlineBackup</th>\n",
       "      <th>InternetService</th>\n",
       "      <th>DeviceProtection</th>\n",
       "      <th>TechSupport</th>\n",
       "      <th>Contract</th>\n",
       "      <th>PaperlessBilling</th>\n",
       "      <th>MonthlyCharges</th>\n",
       "      <th>Churn</th>\n",
       "    </tr>\n",
       "  </thead>\n",
       "  <tbody>\n",
       "    <tr>\n",
       "      <th>0</th>\n",
       "      <td>Yes</td>\n",
       "      <td>9</td>\n",
       "      <td>No</td>\n",
       "      <td>No</td>\n",
       "      <td>DSL</td>\n",
       "      <td>Yes</td>\n",
       "      <td>Yes</td>\n",
       "      <td>Month-to-month</td>\n",
       "      <td>Yes</td>\n",
       "      <td>72.90</td>\n",
       "      <td>Yes</td>\n",
       "    </tr>\n",
       "    <tr>\n",
       "      <th>1</th>\n",
       "      <td>No</td>\n",
       "      <td>14</td>\n",
       "      <td>No</td>\n",
       "      <td>Yes</td>\n",
       "      <td>Fiber optic</td>\n",
       "      <td>Yes</td>\n",
       "      <td>No</td>\n",
       "      <td>Month-to-month</td>\n",
       "      <td>Yes</td>\n",
       "      <td>82.65</td>\n",
       "      <td>No</td>\n",
       "    </tr>\n",
       "    <tr>\n",
       "      <th>2</th>\n",
       "      <td>No</td>\n",
       "      <td>64</td>\n",
       "      <td>Yes</td>\n",
       "      <td>No</td>\n",
       "      <td>DSL</td>\n",
       "      <td>Yes</td>\n",
       "      <td>Yes</td>\n",
       "      <td>Two year</td>\n",
       "      <td>No</td>\n",
       "      <td>47.85</td>\n",
       "      <td>Yes</td>\n",
       "    </tr>\n",
       "    <tr>\n",
       "      <th>3</th>\n",
       "      <td>No</td>\n",
       "      <td>72</td>\n",
       "      <td>Yes</td>\n",
       "      <td>Yes</td>\n",
       "      <td>DSL</td>\n",
       "      <td>Yes</td>\n",
       "      <td>Yes</td>\n",
       "      <td>Two year</td>\n",
       "      <td>No</td>\n",
       "      <td>69.65</td>\n",
       "      <td>No</td>\n",
       "    </tr>\n",
       "    <tr>\n",
       "      <th>4</th>\n",
       "      <td>No</td>\n",
       "      <td>3</td>\n",
       "      <td>No internet service</td>\n",
       "      <td>No internet service</td>\n",
       "      <td>No</td>\n",
       "      <td>No internet service</td>\n",
       "      <td>No internet service</td>\n",
       "      <td>Month-to-month</td>\n",
       "      <td>Yes</td>\n",
       "      <td>23.60</td>\n",
       "      <td>No</td>\n",
       "    </tr>\n",
       "    <tr>\n",
       "      <th>...</th>\n",
       "      <td>...</td>\n",
       "      <td>...</td>\n",
       "      <td>...</td>\n",
       "      <td>...</td>\n",
       "      <td>...</td>\n",
       "      <td>...</td>\n",
       "      <td>...</td>\n",
       "      <td>...</td>\n",
       "      <td>...</td>\n",
       "      <td>...</td>\n",
       "      <td>...</td>\n",
       "    </tr>\n",
       "    <tr>\n",
       "      <th>4925</th>\n",
       "      <td>No</td>\n",
       "      <td>15</td>\n",
       "      <td>No</td>\n",
       "      <td>No</td>\n",
       "      <td>Fiber optic</td>\n",
       "      <td>Yes</td>\n",
       "      <td>Yes</td>\n",
       "      <td>Month-to-month</td>\n",
       "      <td>Yes</td>\n",
       "      <td>103.45</td>\n",
       "      <td>No</td>\n",
       "    </tr>\n",
       "    <tr>\n",
       "      <th>4926</th>\n",
       "      <td>Yes</td>\n",
       "      <td>10</td>\n",
       "      <td>No</td>\n",
       "      <td>No</td>\n",
       "      <td>Fiber optic</td>\n",
       "      <td>Yes</td>\n",
       "      <td>Yes</td>\n",
       "      <td>Month-to-month</td>\n",
       "      <td>Yes</td>\n",
       "      <td>91.10</td>\n",
       "      <td>No</td>\n",
       "    </tr>\n",
       "    <tr>\n",
       "      <th>4927</th>\n",
       "      <td>No</td>\n",
       "      <td>58</td>\n",
       "      <td>No internet service</td>\n",
       "      <td>No internet service</td>\n",
       "      <td>No</td>\n",
       "      <td>No internet service</td>\n",
       "      <td>No internet service</td>\n",
       "      <td>Two year</td>\n",
       "      <td>No</td>\n",
       "      <td>20.75</td>\n",
       "      <td>No</td>\n",
       "    </tr>\n",
       "    <tr>\n",
       "      <th>4928</th>\n",
       "      <td>No</td>\n",
       "      <td>1</td>\n",
       "      <td>No</td>\n",
       "      <td>No</td>\n",
       "      <td>Fiber optic</td>\n",
       "      <td>No</td>\n",
       "      <td>No</td>\n",
       "      <td>Month-to-month</td>\n",
       "      <td>Yes</td>\n",
       "      <td>69.75</td>\n",
       "      <td>Yes</td>\n",
       "    </tr>\n",
       "    <tr>\n",
       "      <th>4929</th>\n",
       "      <td>Yes</td>\n",
       "      <td>4</td>\n",
       "      <td>No internet service</td>\n",
       "      <td>No internet service</td>\n",
       "      <td>No</td>\n",
       "      <td>No internet service</td>\n",
       "      <td>No internet service</td>\n",
       "      <td>Month-to-month</td>\n",
       "      <td>No</td>\n",
       "      <td>20.40</td>\n",
       "      <td>No</td>\n",
       "    </tr>\n",
       "  </tbody>\n",
       "</table>\n",
       "<p>4930 rows × 11 columns</p>\n",
       "</div>"
      ],
      "text/plain": [
       "     Dependents  tenure       OnlineSecurity         OnlineBackup  \\\n",
       "0           Yes       9                   No                   No   \n",
       "1            No      14                   No                  Yes   \n",
       "2            No      64                  Yes                   No   \n",
       "3            No      72                  Yes                  Yes   \n",
       "4            No       3  No internet service  No internet service   \n",
       "...         ...     ...                  ...                  ...   \n",
       "4925         No      15                   No                   No   \n",
       "4926        Yes      10                   No                   No   \n",
       "4927         No      58  No internet service  No internet service   \n",
       "4928         No       1                   No                   No   \n",
       "4929        Yes       4  No internet service  No internet service   \n",
       "\n",
       "     InternetService     DeviceProtection          TechSupport  \\\n",
       "0                DSL                  Yes                  Yes   \n",
       "1        Fiber optic                  Yes                   No   \n",
       "2                DSL                  Yes                  Yes   \n",
       "3                DSL                  Yes                  Yes   \n",
       "4                 No  No internet service  No internet service   \n",
       "...              ...                  ...                  ...   \n",
       "4925     Fiber optic                  Yes                  Yes   \n",
       "4926     Fiber optic                  Yes                  Yes   \n",
       "4927              No  No internet service  No internet service   \n",
       "4928     Fiber optic                   No                   No   \n",
       "4929              No  No internet service  No internet service   \n",
       "\n",
       "            Contract PaperlessBilling  MonthlyCharges Churn  \n",
       "0     Month-to-month              Yes           72.90   Yes  \n",
       "1     Month-to-month              Yes           82.65    No  \n",
       "2           Two year               No           47.85   Yes  \n",
       "3           Two year               No           69.65    No  \n",
       "4     Month-to-month              Yes           23.60    No  \n",
       "...              ...              ...             ...   ...  \n",
       "4925  Month-to-month              Yes          103.45    No  \n",
       "4926  Month-to-month              Yes           91.10    No  \n",
       "4927        Two year               No           20.75    No  \n",
       "4928  Month-to-month              Yes           69.75   Yes  \n",
       "4929  Month-to-month               No           20.40    No  \n",
       "\n",
       "[4930 rows x 11 columns]"
      ]
     },
     "execution_count": 72,
     "metadata": {},
     "output_type": "execute_result"
    }
   ],
   "source": [
    "#Load Dataset\n",
    "df = pd.read_csv(\"data_telco_customer_churn.csv\")\n",
    "df"
   ]
  },
  {
   "cell_type": "markdown",
   "metadata": {},
   "source": [
    "Data terdiri dari 4930 baris dan 11 kolom"
   ]
  },
  {
   "cell_type": "code",
   "execution_count": 73,
   "metadata": {},
   "outputs": [
    {
     "name": "stdout",
     "output_type": "stream",
     "text": [
      "<class 'pandas.core.frame.DataFrame'>\n",
      "RangeIndex: 4930 entries, 0 to 4929\n",
      "Data columns (total 11 columns):\n",
      " #   Column            Non-Null Count  Dtype  \n",
      "---  ------            --------------  -----  \n",
      " 0   Dependents        4930 non-null   object \n",
      " 1   tenure            4930 non-null   int64  \n",
      " 2   OnlineSecurity    4930 non-null   object \n",
      " 3   OnlineBackup      4930 non-null   object \n",
      " 4   InternetService   4930 non-null   object \n",
      " 5   DeviceProtection  4930 non-null   object \n",
      " 6   TechSupport       4930 non-null   object \n",
      " 7   Contract          4930 non-null   object \n",
      " 8   PaperlessBilling  4930 non-null   object \n",
      " 9   MonthlyCharges    4930 non-null   float64\n",
      " 10  Churn             4930 non-null   object \n",
      "dtypes: float64(1), int64(1), object(9)\n",
      "memory usage: 423.8+ KB\n"
     ]
    }
   ],
   "source": [
    "# jumlah data terisi and datatype tiap kolom\n",
    "df.info()"
   ]
  },
  {
   "cell_type": "markdown",
   "metadata": {},
   "source": [
    "Tidak ada missing values"
   ]
  },
  {
   "cell_type": "code",
   "execution_count": 74,
   "metadata": {},
   "outputs": [
    {
     "data": {
      "text/plain": [
       "77"
      ]
     },
     "execution_count": 74,
     "metadata": {},
     "output_type": "execute_result"
    }
   ],
   "source": [
    "df.duplicated().sum()"
   ]
  },
  {
   "cell_type": "markdown",
   "metadata": {},
   "source": [
    "Ada 77 duplikasi data"
   ]
  },
  {
   "cell_type": "markdown",
   "metadata": {},
   "source": [
    "## Data Cleaning"
   ]
  },
  {
   "cell_type": "markdown",
   "metadata": {},
   "source": [
    "Drop duplikasi data"
   ]
  },
  {
   "cell_type": "code",
   "execution_count": 75,
   "metadata": {},
   "outputs": [
    {
     "data": {
      "text/plain": [
       "(4853, 11)"
      ]
     },
     "execution_count": 75,
     "metadata": {},
     "output_type": "execute_result"
    }
   ],
   "source": [
    "df = df.drop_duplicates().reset_index(drop=True)\n",
    "df.shape"
   ]
  },
  {
   "cell_type": "code",
   "execution_count": 76,
   "metadata": {},
   "outputs": [
    {
     "data": {
      "text/html": [
       "<div>\n",
       "<style scoped>\n",
       "    .dataframe tbody tr th:only-of-type {\n",
       "        vertical-align: middle;\n",
       "    }\n",
       "\n",
       "    .dataframe tbody tr th {\n",
       "        vertical-align: top;\n",
       "    }\n",
       "\n",
       "    .dataframe thead th {\n",
       "        text-align: right;\n",
       "    }\n",
       "</style>\n",
       "<table border=\"1\" class=\"dataframe\">\n",
       "  <thead>\n",
       "    <tr style=\"text-align: right;\">\n",
       "      <th></th>\n",
       "      <th>count</th>\n",
       "      <th>mean</th>\n",
       "      <th>std</th>\n",
       "      <th>min</th>\n",
       "      <th>25%</th>\n",
       "      <th>50%</th>\n",
       "      <th>75%</th>\n",
       "      <th>max</th>\n",
       "    </tr>\n",
       "  </thead>\n",
       "  <tbody>\n",
       "    <tr>\n",
       "      <th>tenure</th>\n",
       "      <td>4853.0</td>\n",
       "      <td>32.679992</td>\n",
       "      <td>24.395554</td>\n",
       "      <td>0.0</td>\n",
       "      <td>9.00</td>\n",
       "      <td>29.0</td>\n",
       "      <td>56.00</td>\n",
       "      <td>72.00</td>\n",
       "    </tr>\n",
       "    <tr>\n",
       "      <th>MonthlyCharges</th>\n",
       "      <td>4853.0</td>\n",
       "      <td>65.321543</td>\n",
       "      <td>29.783655</td>\n",
       "      <td>18.8</td>\n",
       "      <td>40.05</td>\n",
       "      <td>70.6</td>\n",
       "      <td>90.05</td>\n",
       "      <td>118.65</td>\n",
       "    </tr>\n",
       "  </tbody>\n",
       "</table>\n",
       "</div>"
      ],
      "text/plain": [
       "                 count       mean        std   min    25%   50%    75%     max\n",
       "tenure          4853.0  32.679992  24.395554   0.0   9.00  29.0  56.00   72.00\n",
       "MonthlyCharges  4853.0  65.321543  29.783655  18.8  40.05  70.6  90.05  118.65"
      ]
     },
     "execution_count": 76,
     "metadata": {},
     "output_type": "execute_result"
    }
   ],
   "source": [
    "df_deskripsi = df.describe().T\n",
    "df_deskripsi"
   ]
  },
  {
   "cell_type": "code",
   "execution_count": 77,
   "metadata": {},
   "outputs": [
    {
     "data": {
      "text/html": [
       "<div>\n",
       "<style scoped>\n",
       "    .dataframe tbody tr th:only-of-type {\n",
       "        vertical-align: middle;\n",
       "    }\n",
       "\n",
       "    .dataframe tbody tr th {\n",
       "        vertical-align: top;\n",
       "    }\n",
       "\n",
       "    .dataframe thead th {\n",
       "        text-align: right;\n",
       "    }\n",
       "</style>\n",
       "<table border=\"1\" class=\"dataframe\">\n",
       "  <thead>\n",
       "    <tr style=\"text-align: right;\">\n",
       "      <th></th>\n",
       "      <th>count</th>\n",
       "      <th>mean</th>\n",
       "      <th>std</th>\n",
       "      <th>min</th>\n",
       "      <th>25%</th>\n",
       "      <th>50%</th>\n",
       "      <th>75%</th>\n",
       "      <th>max</th>\n",
       "      <th>IQR</th>\n",
       "      <th>Lower</th>\n",
       "      <th>Upper</th>\n",
       "      <th>Outlier</th>\n",
       "    </tr>\n",
       "  </thead>\n",
       "  <tbody>\n",
       "    <tr>\n",
       "      <th>tenure</th>\n",
       "      <td>4853.0</td>\n",
       "      <td>32.679992</td>\n",
       "      <td>24.395554</td>\n",
       "      <td>0.0</td>\n",
       "      <td>9.00</td>\n",
       "      <td>29.0</td>\n",
       "      <td>56.00</td>\n",
       "      <td>72.00</td>\n",
       "      <td>47.0</td>\n",
       "      <td>-61.50</td>\n",
       "      <td>126.50</td>\n",
       "      <td>0</td>\n",
       "    </tr>\n",
       "    <tr>\n",
       "      <th>MonthlyCharges</th>\n",
       "      <td>4853.0</td>\n",
       "      <td>65.321543</td>\n",
       "      <td>29.783655</td>\n",
       "      <td>18.8</td>\n",
       "      <td>40.05</td>\n",
       "      <td>70.6</td>\n",
       "      <td>90.05</td>\n",
       "      <td>118.65</td>\n",
       "      <td>50.0</td>\n",
       "      <td>-34.95</td>\n",
       "      <td>165.05</td>\n",
       "      <td>0</td>\n",
       "    </tr>\n",
       "  </tbody>\n",
       "</table>\n",
       "</div>"
      ],
      "text/plain": [
       "                 count       mean        std   min    25%   50%    75%  \\\n",
       "tenure          4853.0  32.679992  24.395554   0.0   9.00  29.0  56.00   \n",
       "MonthlyCharges  4853.0  65.321543  29.783655  18.8  40.05  70.6  90.05   \n",
       "\n",
       "                   max   IQR  Lower   Upper  Outlier  \n",
       "tenure           72.00  47.0 -61.50  126.50        0  \n",
       "MonthlyCharges  118.65  50.0 -34.95  165.05        0  "
      ]
     },
     "execution_count": 77,
     "metadata": {},
     "output_type": "execute_result"
    }
   ],
   "source": [
    "df_deskripsi['IQR'] = df_deskripsi['75%'] - df_deskripsi['25%']\n",
    "df_deskripsi['Lower'] = df_deskripsi['25%'] - 1.5*df_deskripsi['IQR']\n",
    "df_deskripsi['Upper'] = df_deskripsi['75%'] + 1.5*df_deskripsi['IQR']\n",
    "df_deskripsi['Outlier'] = [df[(df['tenure'] < df_deskripsi['Lower']['tenure']) | (df['tenure'] > df_deskripsi['Upper']['tenure'])]['tenure'].count(),\n",
    "                           df[(df['MonthlyCharges'] < df_deskripsi['Lower']['MonthlyCharges']) | (df['MonthlyCharges'] > df_deskripsi['Upper']['MonthlyCharges'])]['MonthlyCharges'].count()]\n",
    "df_deskripsi"
   ]
  },
  {
   "cell_type": "markdown",
   "metadata": {},
   "source": [
    "Tidak ada outlier"
   ]
  },
  {
   "cell_type": "markdown",
   "metadata": {},
   "source": [
    "Data setelah cleaning"
   ]
  },
  {
   "cell_type": "code",
   "execution_count": 78,
   "metadata": {},
   "outputs": [
    {
     "name": "stdout",
     "output_type": "stream",
     "text": [
      "<class 'pandas.core.frame.DataFrame'>\n",
      "RangeIndex: 4853 entries, 0 to 4852\n",
      "Data columns (total 11 columns):\n",
      " #   Column            Non-Null Count  Dtype  \n",
      "---  ------            --------------  -----  \n",
      " 0   Dependents        4853 non-null   object \n",
      " 1   tenure            4853 non-null   int64  \n",
      " 2   OnlineSecurity    4853 non-null   object \n",
      " 3   OnlineBackup      4853 non-null   object \n",
      " 4   InternetService   4853 non-null   object \n",
      " 5   DeviceProtection  4853 non-null   object \n",
      " 6   TechSupport       4853 non-null   object \n",
      " 7   Contract          4853 non-null   object \n",
      " 8   PaperlessBilling  4853 non-null   object \n",
      " 9   MonthlyCharges    4853 non-null   float64\n",
      " 10  Churn             4853 non-null   object \n",
      "dtypes: float64(1), int64(1), object(9)\n",
      "memory usage: 417.2+ KB\n"
     ]
    }
   ],
   "source": [
    "df.info()"
   ]
  },
  {
   "cell_type": "markdown",
   "metadata": {},
   "source": [
    "data terdiri dari 4853 baris dan 11 kolom"
   ]
  },
  {
   "cell_type": "code",
   "execution_count": 79,
   "metadata": {},
   "outputs": [
    {
     "data": {
      "text/plain": [
       "array(['Yes', 'No'], dtype=object)"
      ]
     },
     "execution_count": 79,
     "metadata": {},
     "output_type": "execute_result"
    }
   ],
   "source": [
    "df['Dependents'].unique()"
   ]
  },
  {
   "cell_type": "code",
   "execution_count": 80,
   "metadata": {},
   "outputs": [
    {
     "data": {
      "text/plain": [
       "array(['No', 'Yes', 'No internet service'], dtype=object)"
      ]
     },
     "execution_count": 80,
     "metadata": {},
     "output_type": "execute_result"
    }
   ],
   "source": [
    "df['OnlineSecurity'].unique()"
   ]
  },
  {
   "cell_type": "code",
   "execution_count": 81,
   "metadata": {},
   "outputs": [
    {
     "data": {
      "text/plain": [
       "array(['No', 'Yes', 'No internet service'], dtype=object)"
      ]
     },
     "execution_count": 81,
     "metadata": {},
     "output_type": "execute_result"
    }
   ],
   "source": [
    "df['OnlineBackup'].unique()"
   ]
  },
  {
   "cell_type": "code",
   "execution_count": 82,
   "metadata": {},
   "outputs": [
    {
     "data": {
      "text/plain": [
       "array(['DSL', 'Fiber optic', 'No'], dtype=object)"
      ]
     },
     "execution_count": 82,
     "metadata": {},
     "output_type": "execute_result"
    }
   ],
   "source": [
    "df['InternetService'].unique()"
   ]
  },
  {
   "cell_type": "code",
   "execution_count": 83,
   "metadata": {},
   "outputs": [
    {
     "data": {
      "text/plain": [
       "array(['Yes', 'No internet service', 'No'], dtype=object)"
      ]
     },
     "execution_count": 83,
     "metadata": {},
     "output_type": "execute_result"
    }
   ],
   "source": [
    "df['DeviceProtection'].unique()"
   ]
  },
  {
   "cell_type": "code",
   "execution_count": 84,
   "metadata": {},
   "outputs": [
    {
     "data": {
      "text/plain": [
       "array(['Yes', 'No', 'No internet service'], dtype=object)"
      ]
     },
     "execution_count": 84,
     "metadata": {},
     "output_type": "execute_result"
    }
   ],
   "source": [
    "df['TechSupport'].unique()"
   ]
  },
  {
   "cell_type": "code",
   "execution_count": 85,
   "metadata": {},
   "outputs": [
    {
     "data": {
      "text/plain": [
       "array(['Month-to-month', 'Two year', 'One year'], dtype=object)"
      ]
     },
     "execution_count": 85,
     "metadata": {},
     "output_type": "execute_result"
    }
   ],
   "source": [
    "df['Contract'].unique()"
   ]
  },
  {
   "cell_type": "code",
   "execution_count": 86,
   "metadata": {},
   "outputs": [
    {
     "data": {
      "text/plain": [
       "array(['Yes', 'No'], dtype=object)"
      ]
     },
     "execution_count": 86,
     "metadata": {},
     "output_type": "execute_result"
    }
   ],
   "source": [
    "df['PaperlessBilling'].unique()"
   ]
  },
  {
   "cell_type": "code",
   "execution_count": 87,
   "metadata": {},
   "outputs": [
    {
     "data": {
      "text/plain": [
       "array(['Yes', 'No'], dtype=object)"
      ]
     },
     "execution_count": 87,
     "metadata": {},
     "output_type": "execute_result"
    }
   ],
   "source": [
    "df['Churn'].unique()"
   ]
  },
  {
   "cell_type": "markdown",
   "metadata": {},
   "source": [
    "di kolom OnlineSecurity, OnlineBackup, DeviceProtection, dan TechSupport ada value \"No internet service\". Dapat direplace dengan \"No\". No internet service dan no artinya sama"
   ]
  },
  {
   "cell_type": "code",
   "execution_count": 88,
   "metadata": {},
   "outputs": [],
   "source": [
    "df['OnlineSecurity'].replace('No internet service','No', inplace=True)\n",
    "df['OnlineBackup'].replace('No internet service','No', inplace=True)\n",
    "df['DeviceProtection'].replace('No internet service','No', inplace=True)\n",
    "df['TechSupport'].replace('No internet service','No', inplace=True)"
   ]
  },
  {
   "cell_type": "code",
   "execution_count": 89,
   "metadata": {},
   "outputs": [
    {
     "data": {
      "text/plain": [
       "array(['No', 'Yes'], dtype=object)"
      ]
     },
     "execution_count": 89,
     "metadata": {},
     "output_type": "execute_result"
    }
   ],
   "source": [
    "df['OnlineSecurity'].unique()"
   ]
  },
  {
   "cell_type": "code",
   "execution_count": 90,
   "metadata": {},
   "outputs": [
    {
     "data": {
      "text/plain": [
       "array(['No', 'Yes'], dtype=object)"
      ]
     },
     "execution_count": 90,
     "metadata": {},
     "output_type": "execute_result"
    }
   ],
   "source": [
    "df['OnlineBackup'].unique()"
   ]
  },
  {
   "cell_type": "code",
   "execution_count": 91,
   "metadata": {},
   "outputs": [
    {
     "data": {
      "text/plain": [
       "array(['Yes', 'No'], dtype=object)"
      ]
     },
     "execution_count": 91,
     "metadata": {},
     "output_type": "execute_result"
    }
   ],
   "source": [
    "df['DeviceProtection'].unique()"
   ]
  },
  {
   "cell_type": "code",
   "execution_count": 92,
   "metadata": {},
   "outputs": [
    {
     "data": {
      "text/plain": [
       "array(['Yes', 'No'], dtype=object)"
      ]
     },
     "execution_count": 92,
     "metadata": {},
     "output_type": "execute_result"
    }
   ],
   "source": [
    "df['TechSupport'].unique()"
   ]
  },
  {
   "cell_type": "markdown",
   "metadata": {},
   "source": [
    "## EDA"
   ]
  },
  {
   "cell_type": "code",
   "execution_count": 93,
   "metadata": {},
   "outputs": [
    {
     "data": {
      "image/png": "[encoded data removed]",
      "text/plain": [
       "<Figure size 1700x1200 with 8 Axes>"
      ]
     },
     "metadata": {},
     "output_type": "display_data"
    }
   ],
   "source": [
    "plt.figure(figsize=(17,12))\n",
    "\n",
    "plt.subplot(241)\n",
    "sns.countplot(data=df,x='Dependents',hue='Churn');\n",
    "\n",
    "plt.subplot(242)\n",
    "sns.countplot(data=df,x='OnlineSecurity',hue='Churn');\n",
    "\n",
    "plt.subplot(243)\n",
    "sns.countplot(data=df,x='OnlineBackup',hue='Churn');\n",
    "\n",
    "plt.subplot(244)\n",
    "sns.countplot(data=df,x='InternetService',hue='Churn');\n",
    "\n",
    "plt.subplot(245)\n",
    "sns.countplot(data=df,x='DeviceProtection',hue='Churn');\n",
    "\n",
    "plt.subplot(246)\n",
    "sns.countplot(data=df,x='TechSupport',hue='Churn');\n",
    "\n",
    "plt.subplot(247)\n",
    "sns.countplot(data=df,x='Contract',hue='Churn');\n",
    "\n",
    "plt.subplot(248)\n",
    "sns.countplot(data=df,x='PaperlessBilling',hue='Churn');\n",
    "plt.show()"
   ]
  },
  {
   "cell_type": "markdown",
   "metadata": {},
   "source": [
    "Yang berpotensi meninggalkan penyedia langganan adalah yang tidak memiliki tanggungan (Dependents), keamanan online (OnlineSecurity), back up online, perlindungan perangkat (DeviceProtection), dan dukungan teknis (TechSupport); Layanan internet menggunakan fiber optic, kontrak bulanan, dan menggunakan tagihan paperless."
   ]
  },
  {
   "cell_type": "code",
   "execution_count": 94,
   "metadata": {},
   "outputs": [
    {
     "data": {
      "image/png": "[encoded data removed]",
      "text/plain": [
       "<Figure size 640x480 with 1 Axes>"
      ]
     },
     "metadata": {},
     "output_type": "display_data"
    }
   ],
   "source": [
    "sns.scatterplot(data=df, \n",
    "                x='tenure',\n",
    "                y='MonthlyCharges',\n",
    "                hue='Churn');\n",
    "plt.title('Relationship of Monthly Charges and Tenure');"
   ]
  },
  {
   "cell_type": "markdown",
   "metadata": {},
   "source": [
    "- Yang berpotensi meninggalkan penyedia langganan adalah customer dengan biaya layanan di atas 20 dollar per bulan\n",
    "- Semakin pendek tenure, customer churn semakin banyak\n",
    "- Tidak ada korelasi antara biaya layanan per bulan dengan lamanya customer tetap di perusahaan"
   ]
  },
  {
   "cell_type": "code",
   "execution_count": 95,
   "metadata": {},
   "outputs": [
    {
     "data": {
      "image/png": "[encoded data removed]",
      "text/plain": [
       "<Figure size 1700x1200 with 2 Axes>"
      ]
     },
     "metadata": {},
     "output_type": "display_data"
    }
   ],
   "source": [
    "plt.figure(figsize=(17,12))\n",
    "\n",
    "plt.subplot(121)\n",
    "sns.histplot(data=df, x='tenure', kde=True);\n",
    "\n",
    "plt.subplot(122)\n",
    "sns.histplot(data=df, x='MonthlyCharges', kde=True);\n",
    "plt.show()"
   ]
  },
  {
   "cell_type": "markdown",
   "metadata": {},
   "source": [
    "Distribusi data tenure dan MonthlyCharges tidak normal "
   ]
  },
  {
   "cell_type": "markdown",
   "metadata": {},
   "source": [
    "## Data Preprocessing"
   ]
  },
  {
   "cell_type": "code",
   "execution_count": 96,
   "metadata": {},
   "outputs": [
    {
     "data": {
      "text/html": [
       "<div>\n",
       "<style scoped>\n",
       "    .dataframe tbody tr th:only-of-type {\n",
       "        vertical-align: middle;\n",
       "    }\n",
       "\n",
       "    .dataframe tbody tr th {\n",
       "        vertical-align: top;\n",
       "    }\n",
       "\n",
       "    .dataframe thead th {\n",
       "        text-align: right;\n",
       "    }\n",
       "</style>\n",
       "<table border=\"1\" class=\"dataframe\">\n",
       "  <thead>\n",
       "    <tr style=\"text-align: right;\">\n",
       "      <th></th>\n",
       "      <th>Dependents</th>\n",
       "      <th>tenure</th>\n",
       "      <th>OnlineSecurity</th>\n",
       "      <th>OnlineBackup</th>\n",
       "      <th>InternetService</th>\n",
       "      <th>DeviceProtection</th>\n",
       "      <th>TechSupport</th>\n",
       "      <th>Contract</th>\n",
       "      <th>PaperlessBilling</th>\n",
       "      <th>MonthlyCharges</th>\n",
       "      <th>Churn</th>\n",
       "    </tr>\n",
       "  </thead>\n",
       "  <tbody>\n",
       "    <tr>\n",
       "      <th>0</th>\n",
       "      <td>Yes</td>\n",
       "      <td>9</td>\n",
       "      <td>No</td>\n",
       "      <td>No</td>\n",
       "      <td>DSL</td>\n",
       "      <td>Yes</td>\n",
       "      <td>Yes</td>\n",
       "      <td>Month-to-month</td>\n",
       "      <td>Yes</td>\n",
       "      <td>72.90</td>\n",
       "      <td>Yes</td>\n",
       "    </tr>\n",
       "    <tr>\n",
       "      <th>1</th>\n",
       "      <td>No</td>\n",
       "      <td>14</td>\n",
       "      <td>No</td>\n",
       "      <td>Yes</td>\n",
       "      <td>Fiber optic</td>\n",
       "      <td>Yes</td>\n",
       "      <td>No</td>\n",
       "      <td>Month-to-month</td>\n",
       "      <td>Yes</td>\n",
       "      <td>82.65</td>\n",
       "      <td>No</td>\n",
       "    </tr>\n",
       "    <tr>\n",
       "      <th>2</th>\n",
       "      <td>No</td>\n",
       "      <td>64</td>\n",
       "      <td>Yes</td>\n",
       "      <td>No</td>\n",
       "      <td>DSL</td>\n",
       "      <td>Yes</td>\n",
       "      <td>Yes</td>\n",
       "      <td>Two year</td>\n",
       "      <td>No</td>\n",
       "      <td>47.85</td>\n",
       "      <td>Yes</td>\n",
       "    </tr>\n",
       "    <tr>\n",
       "      <th>3</th>\n",
       "      <td>No</td>\n",
       "      <td>72</td>\n",
       "      <td>Yes</td>\n",
       "      <td>Yes</td>\n",
       "      <td>DSL</td>\n",
       "      <td>Yes</td>\n",
       "      <td>Yes</td>\n",
       "      <td>Two year</td>\n",
       "      <td>No</td>\n",
       "      <td>69.65</td>\n",
       "      <td>No</td>\n",
       "    </tr>\n",
       "    <tr>\n",
       "      <th>4</th>\n",
       "      <td>No</td>\n",
       "      <td>3</td>\n",
       "      <td>No</td>\n",
       "      <td>No</td>\n",
       "      <td>No</td>\n",
       "      <td>No</td>\n",
       "      <td>No</td>\n",
       "      <td>Month-to-month</td>\n",
       "      <td>Yes</td>\n",
       "      <td>23.60</td>\n",
       "      <td>No</td>\n",
       "    </tr>\n",
       "  </tbody>\n",
       "</table>\n",
       "</div>"
      ],
      "text/plain": [
       "  Dependents  tenure OnlineSecurity OnlineBackup InternetService  \\\n",
       "0        Yes       9             No           No             DSL   \n",
       "1         No      14             No          Yes     Fiber optic   \n",
       "2         No      64            Yes           No             DSL   \n",
       "3         No      72            Yes          Yes             DSL   \n",
       "4         No       3             No           No              No   \n",
       "\n",
       "  DeviceProtection TechSupport        Contract PaperlessBilling  \\\n",
       "0              Yes         Yes  Month-to-month              Yes   \n",
       "1              Yes          No  Month-to-month              Yes   \n",
       "2              Yes         Yes        Two year               No   \n",
       "3              Yes         Yes        Two year               No   \n",
       "4               No          No  Month-to-month              Yes   \n",
       "\n",
       "   MonthlyCharges Churn  \n",
       "0           72.90   Yes  \n",
       "1           82.65    No  \n",
       "2           47.85   Yes  \n",
       "3           69.65    No  \n",
       "4           23.60    No  "
      ]
     },
     "execution_count": 96,
     "metadata": {},
     "output_type": "execute_result"
    }
   ],
   "source": [
    "df.head()"
   ]
  },
  {
   "cell_type": "code",
   "execution_count": 97,
   "metadata": {},
   "outputs": [],
   "source": [
    "X = df.drop(columns='Churn')\n",
    "y = df['Churn']\n",
    "\n",
    "X_train, X_test, y_train, y_test = train_test_split(X,\n",
    "                                                    y,\n",
    "                                                    test_size=0.2,\n",
    "                                                    random_state=0,\n",
    "                                                    stratify=y)"
   ]
  },
  {
   "cell_type": "markdown",
   "metadata": {},
   "source": [
    "Berdasarkan EDA yang dibuat, semua feature berpengaruh pada Churn. Sehingga, feature tersebut dipakai semuanya. "
   ]
  },
  {
   "cell_type": "code",
   "execution_count": 98,
   "metadata": {},
   "outputs": [
    {
     "data": {
      "text/plain": [
       "Churn\n",
       "No     0.734597\n",
       "Yes    0.265403\n",
       "Name: count, dtype: float64"
      ]
     },
     "execution_count": 98,
     "metadata": {},
     "output_type": "execute_result"
    }
   ],
   "source": [
    "y.value_counts() / len(y)\n",
    "# imbalance"
   ]
  },
  {
   "cell_type": "code",
   "execution_count": 99,
   "metadata": {},
   "outputs": [
    {
     "name": "stdout",
     "output_type": "stream",
     "text": [
      "X shape\t\t: (4853, 10)\n",
      "y shape\t\t: (4853,)\n",
      "\n",
      "X_train shape\t: (3882, 10)\n",
      "y_train shape\t: (3882,)\n",
      "\n",
      "X_test shape\t: (971, 10)\n",
      "y_test shape\t: (971,)\n"
     ]
    }
   ],
   "source": [
    "print('X shape\\t\\t:', X.shape)\n",
    "print('y shape\\t\\t:', y.shape)\n",
    "print()\n",
    "print('X_train shape\\t:', X_train.shape)\n",
    "print('y_train shape\\t:', y_train.shape)\n",
    "print()\n",
    "print('X_test shape\\t:', X_test.shape)\n",
    "print('y_test shape\\t:', y_test.shape)"
   ]
  },
  {
   "cell_type": "code",
   "execution_count": 100,
   "metadata": {},
   "outputs": [],
   "source": [
    "label = LabelEncoder()\n",
    "\n",
    "label.fit(y_train)\n",
    "\n",
    "y_train_encode = label.transform(y_train)\n",
    "y_test_encode = label.transform(y_test)"
   ]
  },
  {
   "cell_type": "code",
   "execution_count": 101,
   "metadata": {},
   "outputs": [
    {
     "data": {
      "text/plain": [
       "array(['No', 'Yes'], dtype=object)"
      ]
     },
     "execution_count": 101,
     "metadata": {},
     "output_type": "execute_result"
    }
   ],
   "source": [
    "label.classes_"
   ]
  },
  {
   "cell_type": "code",
   "execution_count": 102,
   "metadata": {},
   "outputs": [
    {
     "name": "stdout",
     "output_type": "stream",
     "text": [
      "['No' 'No' 'No' 'No' 'Yes']\n",
      "[0 0 0 0 1]\n"
     ]
    }
   ],
   "source": [
    "print(y_train[:5].values)\n",
    "print(y_train_encode[:5])"
   ]
  },
  {
   "cell_type": "markdown",
   "metadata": {},
   "source": [
    "Pada kolom Churn, value Yes diencode menjadi 1, sedangkan No menjadi 0"
   ]
  },
  {
   "cell_type": "markdown",
   "metadata": {},
   "source": [
    "Untuk encoding, menggunakan one-hot encoding karena feature tidak ada urutan dan jumlah unique value pada kolom kategorikal sedikit. Apabila feature hanya memiliki 2 kategori, 1 kategori didrop untuk menghindari multicollinearities dan kolom yang berlebihan."
   ]
  },
  {
   "cell_type": "code",
   "execution_count": 103,
   "metadata": {},
   "outputs": [],
   "source": [
    "kolomkategorikal =['Dependents', 'OnlineSecurity', 'OnlineBackup', 'InternetService', 'DeviceProtection', 'TechSupport', 'Contract', 'PaperlessBilling']"
   ]
  },
  {
   "cell_type": "code",
   "execution_count": 104,
   "metadata": {},
   "outputs": [],
   "source": [
    "onehot = OneHotEncoder(sparse=False, drop='if_binary')\n",
    "\n",
    "onehot.fit(X_train[kolomkategorikal])\n",
    "\n",
    "X_train_onehot = onehot.transform(X_train[kolomkategorikal])\n",
    "X_test_onehot = onehot.transform(X_test[kolomkategorikal])"
   ]
  },
  {
   "cell_type": "code",
   "execution_count": 105,
   "metadata": {},
   "outputs": [
    {
     "data": {
      "text/plain": [
       "array([[0., 1., 1., ..., 0., 1., 1.],\n",
       "       [1., 1., 1., ..., 0., 1., 0.],\n",
       "       [0., 0., 0., ..., 0., 0., 1.],\n",
       "       ...,\n",
       "       [0., 1., 1., ..., 0., 0., 0.],\n",
       "       [1., 0., 1., ..., 0., 0., 1.],\n",
       "       [0., 1., 1., ..., 0., 1., 1.]])"
      ]
     },
     "execution_count": 105,
     "metadata": {},
     "output_type": "execute_result"
    }
   ],
   "source": [
    "X_train_onehot"
   ]
  },
  {
   "cell_type": "code",
   "execution_count": 106,
   "metadata": {},
   "outputs": [
    {
     "data": {
      "text/plain": [
       "array(['Dependents_Yes', 'OnlineSecurity_Yes', 'OnlineBackup_Yes',\n",
       "       'InternetService_DSL', 'InternetService_Fiber optic',\n",
       "       'InternetService_No', 'DeviceProtection_Yes', 'TechSupport_Yes',\n",
       "       'Contract_Month-to-month', 'Contract_One year',\n",
       "       'Contract_Two year', 'PaperlessBilling_Yes'], dtype=object)"
      ]
     },
     "execution_count": 106,
     "metadata": {},
     "output_type": "execute_result"
    }
   ],
   "source": [
    "kolomonehot = onehot.get_feature_names_out()\n",
    "kolomonehot"
   ]
  },
  {
   "cell_type": "code",
   "execution_count": 107,
   "metadata": {},
   "outputs": [
    {
     "data": {
      "text/html": [
       "<div>\n",
       "<style scoped>\n",
       "    .dataframe tbody tr th:only-of-type {\n",
       "        vertical-align: middle;\n",
       "    }\n",
       "\n",
       "    .dataframe tbody tr th {\n",
       "        vertical-align: top;\n",
       "    }\n",
       "\n",
       "    .dataframe thead th {\n",
       "        text-align: right;\n",
       "    }\n",
       "</style>\n",
       "<table border=\"1\" class=\"dataframe\">\n",
       "  <thead>\n",
       "    <tr style=\"text-align: right;\">\n",
       "      <th></th>\n",
       "      <th>Dependents</th>\n",
       "      <th>tenure</th>\n",
       "      <th>OnlineSecurity</th>\n",
       "      <th>OnlineBackup</th>\n",
       "      <th>InternetService</th>\n",
       "      <th>DeviceProtection</th>\n",
       "      <th>TechSupport</th>\n",
       "      <th>Contract</th>\n",
       "      <th>PaperlessBilling</th>\n",
       "      <th>MonthlyCharges</th>\n",
       "    </tr>\n",
       "  </thead>\n",
       "  <tbody>\n",
       "    <tr>\n",
       "      <th>3738</th>\n",
       "      <td>No</td>\n",
       "      <td>67</td>\n",
       "      <td>Yes</td>\n",
       "      <td>Yes</td>\n",
       "      <td>DSL</td>\n",
       "      <td>No</td>\n",
       "      <td>Yes</td>\n",
       "      <td>Two year</td>\n",
       "      <td>Yes</td>\n",
       "      <td>50.95</td>\n",
       "    </tr>\n",
       "    <tr>\n",
       "      <th>3311</th>\n",
       "      <td>Yes</td>\n",
       "      <td>71</td>\n",
       "      <td>Yes</td>\n",
       "      <td>Yes</td>\n",
       "      <td>DSL</td>\n",
       "      <td>Yes</td>\n",
       "      <td>Yes</td>\n",
       "      <td>Two year</td>\n",
       "      <td>No</td>\n",
       "      <td>85.45</td>\n",
       "    </tr>\n",
       "    <tr>\n",
       "      <th>2379</th>\n",
       "      <td>No</td>\n",
       "      <td>15</td>\n",
       "      <td>No</td>\n",
       "      <td>No</td>\n",
       "      <td>No</td>\n",
       "      <td>No</td>\n",
       "      <td>No</td>\n",
       "      <td>Month-to-month</td>\n",
       "      <td>Yes</td>\n",
       "      <td>26.35</td>\n",
       "    </tr>\n",
       "    <tr>\n",
       "      <th>261</th>\n",
       "      <td>No</td>\n",
       "      <td>31</td>\n",
       "      <td>Yes</td>\n",
       "      <td>No</td>\n",
       "      <td>Fiber optic</td>\n",
       "      <td>No</td>\n",
       "      <td>No</td>\n",
       "      <td>Month-to-month</td>\n",
       "      <td>No</td>\n",
       "      <td>89.45</td>\n",
       "    </tr>\n",
       "    <tr>\n",
       "      <th>107</th>\n",
       "      <td>No</td>\n",
       "      <td>36</td>\n",
       "      <td>No</td>\n",
       "      <td>No</td>\n",
       "      <td>Fiber optic</td>\n",
       "      <td>No</td>\n",
       "      <td>No</td>\n",
       "      <td>Month-to-month</td>\n",
       "      <td>Yes</td>\n",
       "      <td>84.10</td>\n",
       "    </tr>\n",
       "  </tbody>\n",
       "</table>\n",
       "</div>"
      ],
      "text/plain": [
       "     Dependents  tenure OnlineSecurity OnlineBackup InternetService  \\\n",
       "3738         No      67            Yes          Yes             DSL   \n",
       "3311        Yes      71            Yes          Yes             DSL   \n",
       "2379         No      15             No           No              No   \n",
       "261          No      31            Yes           No     Fiber optic   \n",
       "107          No      36             No           No     Fiber optic   \n",
       "\n",
       "     DeviceProtection TechSupport        Contract PaperlessBilling  \\\n",
       "3738               No         Yes        Two year              Yes   \n",
       "3311              Yes         Yes        Two year               No   \n",
       "2379               No          No  Month-to-month              Yes   \n",
       "261                No          No  Month-to-month               No   \n",
       "107                No          No  Month-to-month              Yes   \n",
       "\n",
       "      MonthlyCharges  \n",
       "3738           50.95  \n",
       "3311           85.45  \n",
       "2379           26.35  \n",
       "261            89.45  \n",
       "107            84.10  "
      ]
     },
     "execution_count": 107,
     "metadata": {},
     "output_type": "execute_result"
    }
   ],
   "source": [
    "X_train.head()"
   ]
  },
  {
   "cell_type": "code",
   "execution_count": 108,
   "metadata": {},
   "outputs": [
    {
     "data": {
      "text/html": [
       "<div>\n",
       "<style scoped>\n",
       "    .dataframe tbody tr th:only-of-type {\n",
       "        vertical-align: middle;\n",
       "    }\n",
       "\n",
       "    .dataframe tbody tr th {\n",
       "        vertical-align: top;\n",
       "    }\n",
       "\n",
       "    .dataframe thead th {\n",
       "        text-align: right;\n",
       "    }\n",
       "</style>\n",
       "<table border=\"1\" class=\"dataframe\">\n",
       "  <thead>\n",
       "    <tr style=\"text-align: right;\">\n",
       "      <th></th>\n",
       "      <th>tenure</th>\n",
       "      <th>MonthlyCharges</th>\n",
       "      <th>Dependents_Yes</th>\n",
       "      <th>OnlineSecurity_Yes</th>\n",
       "      <th>OnlineBackup_Yes</th>\n",
       "      <th>InternetService_DSL</th>\n",
       "      <th>InternetService_Fiber optic</th>\n",
       "      <th>InternetService_No</th>\n",
       "      <th>DeviceProtection_Yes</th>\n",
       "      <th>TechSupport_Yes</th>\n",
       "      <th>Contract_Month-to-month</th>\n",
       "      <th>Contract_One year</th>\n",
       "      <th>Contract_Two year</th>\n",
       "      <th>PaperlessBilling_Yes</th>\n",
       "    </tr>\n",
       "  </thead>\n",
       "  <tbody>\n",
       "    <tr>\n",
       "      <th>3738</th>\n",
       "      <td>67</td>\n",
       "      <td>50.95</td>\n",
       "      <td>0.0</td>\n",
       "      <td>1.0</td>\n",
       "      <td>1.0</td>\n",
       "      <td>1.0</td>\n",
       "      <td>0.0</td>\n",
       "      <td>0.0</td>\n",
       "      <td>0.0</td>\n",
       "      <td>1.0</td>\n",
       "      <td>0.0</td>\n",
       "      <td>0.0</td>\n",
       "      <td>1.0</td>\n",
       "      <td>1.0</td>\n",
       "    </tr>\n",
       "    <tr>\n",
       "      <th>3311</th>\n",
       "      <td>71</td>\n",
       "      <td>85.45</td>\n",
       "      <td>1.0</td>\n",
       "      <td>1.0</td>\n",
       "      <td>1.0</td>\n",
       "      <td>1.0</td>\n",
       "      <td>0.0</td>\n",
       "      <td>0.0</td>\n",
       "      <td>1.0</td>\n",
       "      <td>1.0</td>\n",
       "      <td>0.0</td>\n",
       "      <td>0.0</td>\n",
       "      <td>1.0</td>\n",
       "      <td>0.0</td>\n",
       "    </tr>\n",
       "    <tr>\n",
       "      <th>2379</th>\n",
       "      <td>15</td>\n",
       "      <td>26.35</td>\n",
       "      <td>0.0</td>\n",
       "      <td>0.0</td>\n",
       "      <td>0.0</td>\n",
       "      <td>0.0</td>\n",
       "      <td>0.0</td>\n",
       "      <td>1.0</td>\n",
       "      <td>0.0</td>\n",
       "      <td>0.0</td>\n",
       "      <td>1.0</td>\n",
       "      <td>0.0</td>\n",
       "      <td>0.0</td>\n",
       "      <td>1.0</td>\n",
       "    </tr>\n",
       "    <tr>\n",
       "      <th>261</th>\n",
       "      <td>31</td>\n",
       "      <td>89.45</td>\n",
       "      <td>0.0</td>\n",
       "      <td>1.0</td>\n",
       "      <td>0.0</td>\n",
       "      <td>0.0</td>\n",
       "      <td>1.0</td>\n",
       "      <td>0.0</td>\n",
       "      <td>0.0</td>\n",
       "      <td>0.0</td>\n",
       "      <td>1.0</td>\n",
       "      <td>0.0</td>\n",
       "      <td>0.0</td>\n",
       "      <td>0.0</td>\n",
       "    </tr>\n",
       "    <tr>\n",
       "      <th>107</th>\n",
       "      <td>36</td>\n",
       "      <td>84.10</td>\n",
       "      <td>0.0</td>\n",
       "      <td>0.0</td>\n",
       "      <td>0.0</td>\n",
       "      <td>0.0</td>\n",
       "      <td>1.0</td>\n",
       "      <td>0.0</td>\n",
       "      <td>0.0</td>\n",
       "      <td>0.0</td>\n",
       "      <td>1.0</td>\n",
       "      <td>0.0</td>\n",
       "      <td>0.0</td>\n",
       "      <td>1.0</td>\n",
       "    </tr>\n",
       "  </tbody>\n",
       "</table>\n",
       "</div>"
      ],
      "text/plain": [
       "      tenure  MonthlyCharges  Dependents_Yes  OnlineSecurity_Yes  \\\n",
       "3738      67           50.95             0.0                 1.0   \n",
       "3311      71           85.45             1.0                 1.0   \n",
       "2379      15           26.35             0.0                 0.0   \n",
       "261       31           89.45             0.0                 1.0   \n",
       "107       36           84.10             0.0                 0.0   \n",
       "\n",
       "      OnlineBackup_Yes  InternetService_DSL  InternetService_Fiber optic  \\\n",
       "3738               1.0                  1.0                          0.0   \n",
       "3311               1.0                  1.0                          0.0   \n",
       "2379               0.0                  0.0                          0.0   \n",
       "261                0.0                  0.0                          1.0   \n",
       "107                0.0                  0.0                          1.0   \n",
       "\n",
       "      InternetService_No  DeviceProtection_Yes  TechSupport_Yes  \\\n",
       "3738                 0.0                   0.0              1.0   \n",
       "3311                 0.0                   1.0              1.0   \n",
       "2379                 1.0                   0.0              0.0   \n",
       "261                  0.0                   0.0              0.0   \n",
       "107                  0.0                   0.0              0.0   \n",
       "\n",
       "      Contract_Month-to-month  Contract_One year  Contract_Two year  \\\n",
       "3738                      0.0                0.0                1.0   \n",
       "3311                      0.0                0.0                1.0   \n",
       "2379                      1.0                0.0                0.0   \n",
       "261                       1.0                0.0                0.0   \n",
       "107                       1.0                0.0                0.0   \n",
       "\n",
       "      PaperlessBilling_Yes  \n",
       "3738                   1.0  \n",
       "3311                   0.0  \n",
       "2379                   1.0  \n",
       "261                    0.0  \n",
       "107                    1.0  "
      ]
     },
     "execution_count": 108,
     "metadata": {},
     "output_type": "execute_result"
    }
   ],
   "source": [
    "# buat dataframe dari feature yang telah diencode one-hot\n",
    "X_train_onehot_df = pd.DataFrame(X_train_onehot, columns=kolomonehot, index=X_train.index)\n",
    "\n",
    "# kombinasi feature yang telah diencode dengan numerikal\n",
    "X_train_encode = pd.concat([X_train.drop(columns=kolomkategorikal), X_train_onehot_df], axis=1)\n",
    "X_train_encode.head()"
   ]
  },
  {
   "cell_type": "code",
   "execution_count": 109,
   "metadata": {},
   "outputs": [
    {
     "data": {
      "text/html": [
       "<div>\n",
       "<style scoped>\n",
       "    .dataframe tbody tr th:only-of-type {\n",
       "        vertical-align: middle;\n",
       "    }\n",
       "\n",
       "    .dataframe tbody tr th {\n",
       "        vertical-align: top;\n",
       "    }\n",
       "\n",
       "    .dataframe thead th {\n",
       "        text-align: right;\n",
       "    }\n",
       "</style>\n",
       "<table border=\"1\" class=\"dataframe\">\n",
       "  <thead>\n",
       "    <tr style=\"text-align: right;\">\n",
       "      <th></th>\n",
       "      <th>Dependents</th>\n",
       "      <th>tenure</th>\n",
       "      <th>OnlineSecurity</th>\n",
       "      <th>OnlineBackup</th>\n",
       "      <th>InternetService</th>\n",
       "      <th>DeviceProtection</th>\n",
       "      <th>TechSupport</th>\n",
       "      <th>Contract</th>\n",
       "      <th>PaperlessBilling</th>\n",
       "      <th>MonthlyCharges</th>\n",
       "    </tr>\n",
       "  </thead>\n",
       "  <tbody>\n",
       "    <tr>\n",
       "      <th>4265</th>\n",
       "      <td>No</td>\n",
       "      <td>15</td>\n",
       "      <td>No</td>\n",
       "      <td>Yes</td>\n",
       "      <td>Fiber optic</td>\n",
       "      <td>No</td>\n",
       "      <td>No</td>\n",
       "      <td>Month-to-month</td>\n",
       "      <td>Yes</td>\n",
       "      <td>83.20</td>\n",
       "    </tr>\n",
       "    <tr>\n",
       "      <th>159</th>\n",
       "      <td>No</td>\n",
       "      <td>18</td>\n",
       "      <td>No</td>\n",
       "      <td>No</td>\n",
       "      <td>Fiber optic</td>\n",
       "      <td>No</td>\n",
       "      <td>No</td>\n",
       "      <td>Month-to-month</td>\n",
       "      <td>No</td>\n",
       "      <td>78.55</td>\n",
       "    </tr>\n",
       "    <tr>\n",
       "      <th>281</th>\n",
       "      <td>No</td>\n",
       "      <td>72</td>\n",
       "      <td>No</td>\n",
       "      <td>No</td>\n",
       "      <td>Fiber optic</td>\n",
       "      <td>Yes</td>\n",
       "      <td>No</td>\n",
       "      <td>Two year</td>\n",
       "      <td>Yes</td>\n",
       "      <td>97.85</td>\n",
       "    </tr>\n",
       "    <tr>\n",
       "      <th>225</th>\n",
       "      <td>Yes</td>\n",
       "      <td>18</td>\n",
       "      <td>No</td>\n",
       "      <td>No</td>\n",
       "      <td>DSL</td>\n",
       "      <td>No</td>\n",
       "      <td>No</td>\n",
       "      <td>Month-to-month</td>\n",
       "      <td>Yes</td>\n",
       "      <td>45.65</td>\n",
       "    </tr>\n",
       "    <tr>\n",
       "      <th>1345</th>\n",
       "      <td>Yes</td>\n",
       "      <td>72</td>\n",
       "      <td>Yes</td>\n",
       "      <td>Yes</td>\n",
       "      <td>Fiber optic</td>\n",
       "      <td>Yes</td>\n",
       "      <td>Yes</td>\n",
       "      <td>Two year</td>\n",
       "      <td>Yes</td>\n",
       "      <td>112.60</td>\n",
       "    </tr>\n",
       "  </tbody>\n",
       "</table>\n",
       "</div>"
      ],
      "text/plain": [
       "     Dependents  tenure OnlineSecurity OnlineBackup InternetService  \\\n",
       "4265         No      15             No          Yes     Fiber optic   \n",
       "159          No      18             No           No     Fiber optic   \n",
       "281          No      72             No           No     Fiber optic   \n",
       "225         Yes      18             No           No             DSL   \n",
       "1345        Yes      72            Yes          Yes     Fiber optic   \n",
       "\n",
       "     DeviceProtection TechSupport        Contract PaperlessBilling  \\\n",
       "4265               No          No  Month-to-month              Yes   \n",
       "159                No          No  Month-to-month               No   \n",
       "281               Yes          No        Two year              Yes   \n",
       "225                No          No  Month-to-month              Yes   \n",
       "1345              Yes         Yes        Two year              Yes   \n",
       "\n",
       "      MonthlyCharges  \n",
       "4265           83.20  \n",
       "159            78.55  \n",
       "281            97.85  \n",
       "225            45.65  \n",
       "1345          112.60  "
      ]
     },
     "execution_count": 109,
     "metadata": {},
     "output_type": "execute_result"
    }
   ],
   "source": [
    "X_test.head()"
   ]
  },
  {
   "cell_type": "code",
   "execution_count": 110,
   "metadata": {},
   "outputs": [
    {
     "data": {
      "text/html": [
       "<div>\n",
       "<style scoped>\n",
       "    .dataframe tbody tr th:only-of-type {\n",
       "        vertical-align: middle;\n",
       "    }\n",
       "\n",
       "    .dataframe tbody tr th {\n",
       "        vertical-align: top;\n",
       "    }\n",
       "\n",
       "    .dataframe thead th {\n",
       "        text-align: right;\n",
       "    }\n",
       "</style>\n",
       "<table border=\"1\" class=\"dataframe\">\n",
       "  <thead>\n",
       "    <tr style=\"text-align: right;\">\n",
       "      <th></th>\n",
       "      <th>tenure</th>\n",
       "      <th>MonthlyCharges</th>\n",
       "      <th>Dependents_Yes</th>\n",
       "      <th>OnlineSecurity_Yes</th>\n",
       "      <th>OnlineBackup_Yes</th>\n",
       "      <th>InternetService_DSL</th>\n",
       "      <th>InternetService_Fiber optic</th>\n",
       "      <th>InternetService_No</th>\n",
       "      <th>DeviceProtection_Yes</th>\n",
       "      <th>TechSupport_Yes</th>\n",
       "      <th>Contract_Month-to-month</th>\n",
       "      <th>Contract_One year</th>\n",
       "      <th>Contract_Two year</th>\n",
       "      <th>PaperlessBilling_Yes</th>\n",
       "    </tr>\n",
       "  </thead>\n",
       "  <tbody>\n",
       "    <tr>\n",
       "      <th>4265</th>\n",
       "      <td>15</td>\n",
       "      <td>83.20</td>\n",
       "      <td>0.0</td>\n",
       "      <td>0.0</td>\n",
       "      <td>1.0</td>\n",
       "      <td>0.0</td>\n",
       "      <td>1.0</td>\n",
       "      <td>0.0</td>\n",
       "      <td>0.0</td>\n",
       "      <td>0.0</td>\n",
       "      <td>1.0</td>\n",
       "      <td>0.0</td>\n",
       "      <td>0.0</td>\n",
       "      <td>1.0</td>\n",
       "    </tr>\n",
       "    <tr>\n",
       "      <th>159</th>\n",
       "      <td>18</td>\n",
       "      <td>78.55</td>\n",
       "      <td>0.0</td>\n",
       "      <td>0.0</td>\n",
       "      <td>0.0</td>\n",
       "      <td>0.0</td>\n",
       "      <td>1.0</td>\n",
       "      <td>0.0</td>\n",
       "      <td>0.0</td>\n",
       "      <td>0.0</td>\n",
       "      <td>1.0</td>\n",
       "      <td>0.0</td>\n",
       "      <td>0.0</td>\n",
       "      <td>0.0</td>\n",
       "    </tr>\n",
       "    <tr>\n",
       "      <th>281</th>\n",
       "      <td>72</td>\n",
       "      <td>97.85</td>\n",
       "      <td>0.0</td>\n",
       "      <td>0.0</td>\n",
       "      <td>0.0</td>\n",
       "      <td>0.0</td>\n",
       "      <td>1.0</td>\n",
       "      <td>0.0</td>\n",
       "      <td>1.0</td>\n",
       "      <td>0.0</td>\n",
       "      <td>0.0</td>\n",
       "      <td>0.0</td>\n",
       "      <td>1.0</td>\n",
       "      <td>1.0</td>\n",
       "    </tr>\n",
       "    <tr>\n",
       "      <th>225</th>\n",
       "      <td>18</td>\n",
       "      <td>45.65</td>\n",
       "      <td>1.0</td>\n",
       "      <td>0.0</td>\n",
       "      <td>0.0</td>\n",
       "      <td>1.0</td>\n",
       "      <td>0.0</td>\n",
       "      <td>0.0</td>\n",
       "      <td>0.0</td>\n",
       "      <td>0.0</td>\n",
       "      <td>1.0</td>\n",
       "      <td>0.0</td>\n",
       "      <td>0.0</td>\n",
       "      <td>1.0</td>\n",
       "    </tr>\n",
       "    <tr>\n",
       "      <th>1345</th>\n",
       "      <td>72</td>\n",
       "      <td>112.60</td>\n",
       "      <td>1.0</td>\n",
       "      <td>1.0</td>\n",
       "      <td>1.0</td>\n",
       "      <td>0.0</td>\n",
       "      <td>1.0</td>\n",
       "      <td>0.0</td>\n",
       "      <td>1.0</td>\n",
       "      <td>1.0</td>\n",
       "      <td>0.0</td>\n",
       "      <td>0.0</td>\n",
       "      <td>1.0</td>\n",
       "      <td>1.0</td>\n",
       "    </tr>\n",
       "  </tbody>\n",
       "</table>\n",
       "</div>"
      ],
      "text/plain": [
       "      tenure  MonthlyCharges  Dependents_Yes  OnlineSecurity_Yes  \\\n",
       "4265      15           83.20             0.0                 0.0   \n",
       "159       18           78.55             0.0                 0.0   \n",
       "281       72           97.85             0.0                 0.0   \n",
       "225       18           45.65             1.0                 0.0   \n",
       "1345      72          112.60             1.0                 1.0   \n",
       "\n",
       "      OnlineBackup_Yes  InternetService_DSL  InternetService_Fiber optic  \\\n",
       "4265               1.0                  0.0                          1.0   \n",
       "159                0.0                  0.0                          1.0   \n",
       "281                0.0                  0.0                          1.0   \n",
       "225                0.0                  1.0                          0.0   \n",
       "1345               1.0                  0.0                          1.0   \n",
       "\n",
       "      InternetService_No  DeviceProtection_Yes  TechSupport_Yes  \\\n",
       "4265                 0.0                   0.0              0.0   \n",
       "159                  0.0                   0.0              0.0   \n",
       "281                  0.0                   1.0              0.0   \n",
       "225                  0.0                   0.0              0.0   \n",
       "1345                 0.0                   1.0              1.0   \n",
       "\n",
       "      Contract_Month-to-month  Contract_One year  Contract_Two year  \\\n",
       "4265                      1.0                0.0                0.0   \n",
       "159                       1.0                0.0                0.0   \n",
       "281                       0.0                0.0                1.0   \n",
       "225                       1.0                0.0                0.0   \n",
       "1345                      0.0                0.0                1.0   \n",
       "\n",
       "      PaperlessBilling_Yes  \n",
       "4265                   1.0  \n",
       "159                    0.0  \n",
       "281                    1.0  \n",
       "225                    1.0  \n",
       "1345                   1.0  "
      ]
     },
     "execution_count": 110,
     "metadata": {},
     "output_type": "execute_result"
    }
   ],
   "source": [
    "# buat dataframe dari feature yang telah diencode one-hot\n",
    "X_test_onehot_df = pd.DataFrame(X_test_onehot, columns=kolomonehot, index=X_test.index)\n",
    "\n",
    "# kombinasi feature yang telah diencode dengan numerikal\n",
    "X_test_encode = pd.concat([X_test.drop(columns=kolomkategorikal), X_test_onehot_df], axis=1)\n",
    "X_test_encode.head()"
   ]
  },
  {
   "cell_type": "code",
   "execution_count": 111,
   "metadata": {},
   "outputs": [
    {
     "data": {
      "text/html": [
       "<div>\n",
       "<style scoped>\n",
       "    .dataframe tbody tr th:only-of-type {\n",
       "        vertical-align: middle;\n",
       "    }\n",
       "\n",
       "    .dataframe tbody tr th {\n",
       "        vertical-align: top;\n",
       "    }\n",
       "\n",
       "    .dataframe thead th {\n",
       "        text-align: right;\n",
       "    }\n",
       "</style>\n",
       "<table border=\"1\" class=\"dataframe\">\n",
       "  <thead>\n",
       "    <tr style=\"text-align: right;\">\n",
       "      <th></th>\n",
       "      <th>tenure</th>\n",
       "      <th>MonthlyCharges</th>\n",
       "      <th>Dependents_Yes</th>\n",
       "      <th>OnlineSecurity_Yes</th>\n",
       "      <th>OnlineBackup_Yes</th>\n",
       "      <th>InternetService_DSL</th>\n",
       "      <th>InternetService_Fiber optic</th>\n",
       "      <th>InternetService_No</th>\n",
       "      <th>DeviceProtection_Yes</th>\n",
       "      <th>TechSupport_Yes</th>\n",
       "      <th>Contract_Month-to-month</th>\n",
       "      <th>Contract_One year</th>\n",
       "      <th>Contract_Two year</th>\n",
       "      <th>PaperlessBilling_Yes</th>\n",
       "      <th>Churn</th>\n",
       "    </tr>\n",
       "  </thead>\n",
       "  <tbody>\n",
       "    <tr>\n",
       "      <th>3738</th>\n",
       "      <td>67</td>\n",
       "      <td>50.95</td>\n",
       "      <td>0.0</td>\n",
       "      <td>1.0</td>\n",
       "      <td>1.0</td>\n",
       "      <td>1.0</td>\n",
       "      <td>0.0</td>\n",
       "      <td>0.0</td>\n",
       "      <td>0.0</td>\n",
       "      <td>1.0</td>\n",
       "      <td>0.0</td>\n",
       "      <td>0.0</td>\n",
       "      <td>1.0</td>\n",
       "      <td>1.0</td>\n",
       "      <td>0.0</td>\n",
       "    </tr>\n",
       "    <tr>\n",
       "      <th>3311</th>\n",
       "      <td>71</td>\n",
       "      <td>85.45</td>\n",
       "      <td>1.0</td>\n",
       "      <td>1.0</td>\n",
       "      <td>1.0</td>\n",
       "      <td>1.0</td>\n",
       "      <td>0.0</td>\n",
       "      <td>0.0</td>\n",
       "      <td>1.0</td>\n",
       "      <td>1.0</td>\n",
       "      <td>0.0</td>\n",
       "      <td>0.0</td>\n",
       "      <td>1.0</td>\n",
       "      <td>0.0</td>\n",
       "      <td>0.0</td>\n",
       "    </tr>\n",
       "    <tr>\n",
       "      <th>2379</th>\n",
       "      <td>15</td>\n",
       "      <td>26.35</td>\n",
       "      <td>0.0</td>\n",
       "      <td>0.0</td>\n",
       "      <td>0.0</td>\n",
       "      <td>0.0</td>\n",
       "      <td>0.0</td>\n",
       "      <td>1.0</td>\n",
       "      <td>0.0</td>\n",
       "      <td>0.0</td>\n",
       "      <td>1.0</td>\n",
       "      <td>0.0</td>\n",
       "      <td>0.0</td>\n",
       "      <td>1.0</td>\n",
       "      <td>0.0</td>\n",
       "    </tr>\n",
       "    <tr>\n",
       "      <th>261</th>\n",
       "      <td>31</td>\n",
       "      <td>89.45</td>\n",
       "      <td>0.0</td>\n",
       "      <td>1.0</td>\n",
       "      <td>0.0</td>\n",
       "      <td>0.0</td>\n",
       "      <td>1.0</td>\n",
       "      <td>0.0</td>\n",
       "      <td>0.0</td>\n",
       "      <td>0.0</td>\n",
       "      <td>1.0</td>\n",
       "      <td>0.0</td>\n",
       "      <td>0.0</td>\n",
       "      <td>0.0</td>\n",
       "      <td>0.0</td>\n",
       "    </tr>\n",
       "    <tr>\n",
       "      <th>107</th>\n",
       "      <td>36</td>\n",
       "      <td>84.10</td>\n",
       "      <td>0.0</td>\n",
       "      <td>0.0</td>\n",
       "      <td>0.0</td>\n",
       "      <td>0.0</td>\n",
       "      <td>1.0</td>\n",
       "      <td>0.0</td>\n",
       "      <td>0.0</td>\n",
       "      <td>0.0</td>\n",
       "      <td>1.0</td>\n",
       "      <td>0.0</td>\n",
       "      <td>0.0</td>\n",
       "      <td>1.0</td>\n",
       "      <td>1.0</td>\n",
       "    </tr>\n",
       "  </tbody>\n",
       "</table>\n",
       "</div>"
      ],
      "text/plain": [
       "      tenure  MonthlyCharges  Dependents_Yes  OnlineSecurity_Yes  \\\n",
       "3738      67           50.95             0.0                 1.0   \n",
       "3311      71           85.45             1.0                 1.0   \n",
       "2379      15           26.35             0.0                 0.0   \n",
       "261       31           89.45             0.0                 1.0   \n",
       "107       36           84.10             0.0                 0.0   \n",
       "\n",
       "      OnlineBackup_Yes  InternetService_DSL  InternetService_Fiber optic  \\\n",
       "3738               1.0                  1.0                          0.0   \n",
       "3311               1.0                  1.0                          0.0   \n",
       "2379               0.0                  0.0                          0.0   \n",
       "261                0.0                  0.0                          1.0   \n",
       "107                0.0                  0.0                          1.0   \n",
       "\n",
       "      InternetService_No  DeviceProtection_Yes  TechSupport_Yes  \\\n",
       "3738                 0.0                   0.0              1.0   \n",
       "3311                 0.0                   1.0              1.0   \n",
       "2379                 1.0                   0.0              0.0   \n",
       "261                  0.0                   0.0              0.0   \n",
       "107                  0.0                   0.0              0.0   \n",
       "\n",
       "      Contract_Month-to-month  Contract_One year  Contract_Two year  \\\n",
       "3738                      0.0                0.0                1.0   \n",
       "3311                      0.0                0.0                1.0   \n",
       "2379                      1.0                0.0                0.0   \n",
       "261                       1.0                0.0                0.0   \n",
       "107                       1.0                0.0                0.0   \n",
       "\n",
       "      PaperlessBilling_Yes  Churn  \n",
       "3738                   1.0    0.0  \n",
       "3311                   0.0    0.0  \n",
       "2379                   1.0    0.0  \n",
       "261                    0.0    0.0  \n",
       "107                    1.0    1.0  "
      ]
     },
     "execution_count": 111,
     "metadata": {},
     "output_type": "execute_result"
    }
   ],
   "source": [
    "# Kombinasi X-train and X-test\n",
    "df_encode = pd.concat([X_train_encode, X_test_encode], axis=0)\n",
    "\n",
    "# Kombinasi dengan y-train\n",
    "df_encode = df_encode.join(pd.Series(y_train_encode, name='Churn', index=X_train_encode.index), lsuffix='_1', rsuffix='_2')\n",
    "\n",
    "# Kombinasi dengan y-test\n",
    "df_encode = df_encode.join(pd.Series(y_test_encode, name='Churn', index=X_test_encode.index), lsuffix='_1', rsuffix='_2')\n",
    "\n",
    "# Gabung kolom y-train dan y-test\n",
    "df_encode['Churn_1'].fillna(df_encode['Churn_2'], inplace=True)\n",
    "df_encode.drop(columns='Churn_2', inplace=True)\n",
    "df_encode.rename(columns={'Churn_1':'Churn'}, inplace=True)\n",
    "\n",
    "df_encode.head()"
   ]
  },
  {
   "cell_type": "markdown",
   "metadata": {},
   "source": [
    "Untuk scaling, menggunakan min-max scaling karena distribusi data pada feature kolom numerikal tidak normal"
   ]
  },
  {
   "cell_type": "code",
   "execution_count": 112,
   "metadata": {},
   "outputs": [],
   "source": [
    "X_train_encode_scale = X_train_encode.copy()\n",
    "X_test_encode_scale = X_test_encode.copy()\n",
    "\n",
    "scaler = MinMaxScaler()\n",
    "scaler.fit(X_train_encode_scale[['tenure', 'MonthlyCharges']])\n",
    "\n",
    "X_train_encode_scale[['tenure', 'MonthlyCharges']] = scaler.transform(X_train_encode_scale[['tenure', 'MonthlyCharges']])\n",
    "X_test_encode_scale[['tenure', 'MonthlyCharges']] = scaler.transform(X_test_encode_scale[['tenure', 'MonthlyCharges']])"
   ]
  },
  {
   "cell_type": "code",
   "execution_count": 113,
   "metadata": {},
   "outputs": [
    {
     "data": {
      "text/html": [
       "<div>\n",
       "<style scoped>\n",
       "    .dataframe tbody tr th:only-of-type {\n",
       "        vertical-align: middle;\n",
       "    }\n",
       "\n",
       "    .dataframe tbody tr th {\n",
       "        vertical-align: top;\n",
       "    }\n",
       "\n",
       "    .dataframe thead th {\n",
       "        text-align: right;\n",
       "    }\n",
       "</style>\n",
       "<table border=\"1\" class=\"dataframe\">\n",
       "  <thead>\n",
       "    <tr style=\"text-align: right;\">\n",
       "      <th></th>\n",
       "      <th>tenure</th>\n",
       "      <th>MonthlyCharges</th>\n",
       "      <th>Dependents_Yes</th>\n",
       "      <th>OnlineSecurity_Yes</th>\n",
       "      <th>OnlineBackup_Yes</th>\n",
       "      <th>InternetService_DSL</th>\n",
       "      <th>InternetService_Fiber optic</th>\n",
       "      <th>InternetService_No</th>\n",
       "      <th>DeviceProtection_Yes</th>\n",
       "      <th>TechSupport_Yes</th>\n",
       "      <th>Contract_Month-to-month</th>\n",
       "      <th>Contract_One year</th>\n",
       "      <th>Contract_Two year</th>\n",
       "      <th>PaperlessBilling_Yes</th>\n",
       "      <th>Churn</th>\n",
       "    </tr>\n",
       "  </thead>\n",
       "  <tbody>\n",
       "    <tr>\n",
       "      <th>3738</th>\n",
       "      <td>0.930556</td>\n",
       "      <td>0.321983</td>\n",
       "      <td>0.0</td>\n",
       "      <td>1.0</td>\n",
       "      <td>1.0</td>\n",
       "      <td>1.0</td>\n",
       "      <td>0.0</td>\n",
       "      <td>0.0</td>\n",
       "      <td>0.0</td>\n",
       "      <td>1.0</td>\n",
       "      <td>0.0</td>\n",
       "      <td>0.0</td>\n",
       "      <td>1.0</td>\n",
       "      <td>1.0</td>\n",
       "      <td>0.0</td>\n",
       "    </tr>\n",
       "    <tr>\n",
       "      <th>3311</th>\n",
       "      <td>0.986111</td>\n",
       "      <td>0.667501</td>\n",
       "      <td>1.0</td>\n",
       "      <td>1.0</td>\n",
       "      <td>1.0</td>\n",
       "      <td>1.0</td>\n",
       "      <td>0.0</td>\n",
       "      <td>0.0</td>\n",
       "      <td>1.0</td>\n",
       "      <td>1.0</td>\n",
       "      <td>0.0</td>\n",
       "      <td>0.0</td>\n",
       "      <td>1.0</td>\n",
       "      <td>0.0</td>\n",
       "      <td>0.0</td>\n",
       "    </tr>\n",
       "    <tr>\n",
       "      <th>2379</th>\n",
       "      <td>0.208333</td>\n",
       "      <td>0.075613</td>\n",
       "      <td>0.0</td>\n",
       "      <td>0.0</td>\n",
       "      <td>0.0</td>\n",
       "      <td>0.0</td>\n",
       "      <td>0.0</td>\n",
       "      <td>1.0</td>\n",
       "      <td>0.0</td>\n",
       "      <td>0.0</td>\n",
       "      <td>1.0</td>\n",
       "      <td>0.0</td>\n",
       "      <td>0.0</td>\n",
       "      <td>1.0</td>\n",
       "      <td>0.0</td>\n",
       "    </tr>\n",
       "    <tr>\n",
       "      <th>261</th>\n",
       "      <td>0.430556</td>\n",
       "      <td>0.707561</td>\n",
       "      <td>0.0</td>\n",
       "      <td>1.0</td>\n",
       "      <td>0.0</td>\n",
       "      <td>0.0</td>\n",
       "      <td>1.0</td>\n",
       "      <td>0.0</td>\n",
       "      <td>0.0</td>\n",
       "      <td>0.0</td>\n",
       "      <td>1.0</td>\n",
       "      <td>0.0</td>\n",
       "      <td>0.0</td>\n",
       "      <td>0.0</td>\n",
       "      <td>0.0</td>\n",
       "    </tr>\n",
       "    <tr>\n",
       "      <th>107</th>\n",
       "      <td>0.500000</td>\n",
       "      <td>0.653981</td>\n",
       "      <td>0.0</td>\n",
       "      <td>0.0</td>\n",
       "      <td>0.0</td>\n",
       "      <td>0.0</td>\n",
       "      <td>1.0</td>\n",
       "      <td>0.0</td>\n",
       "      <td>0.0</td>\n",
       "      <td>0.0</td>\n",
       "      <td>1.0</td>\n",
       "      <td>0.0</td>\n",
       "      <td>0.0</td>\n",
       "      <td>1.0</td>\n",
       "      <td>1.0</td>\n",
       "    </tr>\n",
       "  </tbody>\n",
       "</table>\n",
       "</div>"
      ],
      "text/plain": [
       "        tenure  MonthlyCharges  Dependents_Yes  OnlineSecurity_Yes  \\\n",
       "3738  0.930556        0.321983             0.0                 1.0   \n",
       "3311  0.986111        0.667501             1.0                 1.0   \n",
       "2379  0.208333        0.075613             0.0                 0.0   \n",
       "261   0.430556        0.707561             0.0                 1.0   \n",
       "107   0.500000        0.653981             0.0                 0.0   \n",
       "\n",
       "      OnlineBackup_Yes  InternetService_DSL  InternetService_Fiber optic  \\\n",
       "3738               1.0                  1.0                          0.0   \n",
       "3311               1.0                  1.0                          0.0   \n",
       "2379               0.0                  0.0                          0.0   \n",
       "261                0.0                  0.0                          1.0   \n",
       "107                0.0                  0.0                          1.0   \n",
       "\n",
       "      InternetService_No  DeviceProtection_Yes  TechSupport_Yes  \\\n",
       "3738                 0.0                   0.0              1.0   \n",
       "3311                 0.0                   1.0              1.0   \n",
       "2379                 1.0                   0.0              0.0   \n",
       "261                  0.0                   0.0              0.0   \n",
       "107                  0.0                   0.0              0.0   \n",
       "\n",
       "      Contract_Month-to-month  Contract_One year  Contract_Two year  \\\n",
       "3738                      0.0                0.0                1.0   \n",
       "3311                      0.0                0.0                1.0   \n",
       "2379                      1.0                0.0                0.0   \n",
       "261                       1.0                0.0                0.0   \n",
       "107                       1.0                0.0                0.0   \n",
       "\n",
       "      PaperlessBilling_Yes  Churn  \n",
       "3738                   1.0    0.0  \n",
       "3311                   0.0    0.0  \n",
       "2379                   1.0    0.0  \n",
       "261                    0.0    0.0  \n",
       "107                    1.0    1.0  "
      ]
     },
     "execution_count": 113,
     "metadata": {},
     "output_type": "execute_result"
    }
   ],
   "source": [
    "# Kombinasi X-train and X-test\n",
    "df_encode_scale = pd.concat([X_train_encode_scale, X_test_encode_scale], axis=0)\n",
    "\n",
    "# Kombinasi dengan y-train\n",
    "df_encode_scale = df_encode_scale.join(pd.Series(y_train_encode, name='Churn', index=X_train_encode_scale.index), lsuffix='_1', rsuffix='_2')\n",
    "\n",
    "# Kombinasi dengan y-test\n",
    "df_encode_scale = df_encode_scale.join(pd.Series(y_test_encode, name='Churn', index=X_test_encode_scale.index), lsuffix='_1', rsuffix='_2')\n",
    "\n",
    "# Gabung kolom y-train dan y-test\n",
    "df_encode_scale['Churn_1'].fillna(df_encode_scale['Churn_2'], inplace=True)\n",
    "df_encode_scale.drop(columns='Churn_2', inplace=True)\n",
    "df_encode_scale.rename(columns={'Churn_1':'Churn'}, inplace=True)\n",
    "\n",
    "df_encode_scale.head()"
   ]
  },
  {
   "cell_type": "markdown",
   "metadata": {},
   "source": [
    "Karena dataset imbalance, akan diseimbangkan dengan metode oversampling SMOTE"
   ]
  },
  {
   "cell_type": "code",
   "execution_count": 114,
   "metadata": {},
   "outputs": [],
   "source": [
    "smote = SMOTE(random_state=0)\n",
    "\n",
    "# fit & resample\n",
    "X_train_smote, y_train_smote = smote.fit_resample(X_train_encode_scale, y_train_encode)\n",
    "\n",
    "X_train_smote_df = pd.DataFrame(X_train_smote, columns=X_train_smote.columns)\n",
    "y_train_smote_df = pd.DataFrame(y_train_smote, columns=['Churn'])\n",
    "\n",
    "df_smote = pd.concat([X_train_smote_df, y_train_smote_df], axis=1)"
   ]
  },
  {
   "cell_type": "code",
   "execution_count": 115,
   "metadata": {},
   "outputs": [
    {
     "data": {
      "text/plain": [
       "Churn\n",
       "0    2852\n",
       "1    2852\n",
       "Name: count, dtype: int64"
      ]
     },
     "execution_count": 115,
     "metadata": {},
     "output_type": "execute_result"
    }
   ],
   "source": [
    "df_smote['Churn'].value_counts()"
   ]
  },
  {
   "cell_type": "markdown",
   "metadata": {},
   "source": [
    "## Modeling & Evaluation"
   ]
  },
  {
   "cell_type": "code",
   "execution_count": 116,
   "metadata": {},
   "outputs": [],
   "source": [
    "logreg = LogisticRegression(max_iter=1000, random_state=0)\n",
    "knn = KNeighborsClassifier()\n",
    "dt = DecisionTreeClassifier(random_state=0)\n",
    "rf = RandomForestClassifier(random_state=0)\n",
    "gboost = GradientBoostingClassifier(random_state=0)\n",
    "adaboost = AdaBoostClassifier(random_state=0)\n",
    "xgboost = XGBClassifier(random_state=0)"
   ]
  },
  {
   "cell_type": "markdown",
   "metadata": {},
   "source": [
    "### Default Parameter"
   ]
  },
  {
   "cell_type": "code",
   "execution_count": 117,
   "metadata": {},
   "outputs": [],
   "source": [
    "models = [logreg, knn, dt, rf, gboost, adaboost, xgboost]\n",
    "\n",
    "cv_mean = []\n",
    "cv_std = []\n",
    "cv_all = []\n",
    "\n",
    "# Mencari model terbaik berdasarkan f1 score terbesar dan std terkecil\n",
    "for i in models:\n",
    "    model = i\n",
    "\n",
    "    \n",
    "    model_cv = cross_val_score(\n",
    "        estimator=model, \n",
    "        X = X_train_encode_scale, \n",
    "        y = y_train_encode, \n",
    "        cv = 5, \n",
    "        scoring = 'f1',\n",
    "        error_score='raise'\n",
    "        )\n",
    "\n",
    "    cv_mean.append(model_cv.mean())\n",
    "    cv_std.append(model_cv.std())\n",
    "    cv_all.append(model_cv.round(4))"
   ]
  },
  {
   "cell_type": "code",
   "execution_count": 118,
   "metadata": {},
   "outputs": [
    {
     "data": {
      "text/html": [
       "<div>\n",
       "<style scoped>\n",
       "    .dataframe tbody tr th:only-of-type {\n",
       "        vertical-align: middle;\n",
       "    }\n",
       "\n",
       "    .dataframe tbody tr th {\n",
       "        vertical-align: top;\n",
       "    }\n",
       "\n",
       "    .dataframe thead th {\n",
       "        text-align: right;\n",
       "    }\n",
       "</style>\n",
       "<table border=\"1\" class=\"dataframe\">\n",
       "  <thead>\n",
       "    <tr style=\"text-align: right;\">\n",
       "      <th></th>\n",
       "      <th>algo</th>\n",
       "      <th>mean</th>\n",
       "      <th>std</th>\n",
       "      <th>all</th>\n",
       "    </tr>\n",
       "  </thead>\n",
       "  <tbody>\n",
       "    <tr>\n",
       "      <th>0</th>\n",
       "      <td>LogisticRegression(max_iter=1000, random_state=0)</td>\n",
       "      <td>0.574214</td>\n",
       "      <td>0.027880</td>\n",
       "      <td>[0.5782, 0.5421, 0.5676, 0.6247, 0.5584]</td>\n",
       "    </tr>\n",
       "    <tr>\n",
       "      <th>1</th>\n",
       "      <td>KNeighborsClassifier()</td>\n",
       "      <td>0.525655</td>\n",
       "      <td>0.011783</td>\n",
       "      <td>[0.5199, 0.5368, 0.5206, 0.5414, 0.5095]</td>\n",
       "    </tr>\n",
       "    <tr>\n",
       "      <th>2</th>\n",
       "      <td>DecisionTreeClassifier(random_state=0)</td>\n",
       "      <td>0.492751</td>\n",
       "      <td>0.024889</td>\n",
       "      <td>[0.5047, 0.5013, 0.4541, 0.4771, 0.5266]</td>\n",
       "    </tr>\n",
       "    <tr>\n",
       "      <th>3</th>\n",
       "      <td>RandomForestClassifier(random_state=0)</td>\n",
       "      <td>0.533023</td>\n",
       "      <td>0.011089</td>\n",
       "      <td>[0.5395, 0.5503, 0.5175, 0.5281, 0.5297]</td>\n",
       "    </tr>\n",
       "    <tr>\n",
       "      <th>4</th>\n",
       "      <td>GradientBoostingClassifier(random_state=0)</td>\n",
       "      <td>0.576356</td>\n",
       "      <td>0.015071</td>\n",
       "      <td>[0.5813, 0.5816, 0.5867, 0.5856, 0.5465]</td>\n",
       "    </tr>\n",
       "    <tr>\n",
       "      <th>5</th>\n",
       "      <td>AdaBoostClassifier(random_state=0)</td>\n",
       "      <td>0.576083</td>\n",
       "      <td>0.013287</td>\n",
       "      <td>[0.5838, 0.5865, 0.56, 0.5902, 0.56]</td>\n",
       "    </tr>\n",
       "    <tr>\n",
       "      <th>6</th>\n",
       "      <td>XGBClassifier(base_score=None, booster=None, c...</td>\n",
       "      <td>0.568990</td>\n",
       "      <td>0.019190</td>\n",
       "      <td>[0.5567, 0.5558, 0.5596, 0.6067, 0.5661]</td>\n",
       "    </tr>\n",
       "  </tbody>\n",
       "</table>\n",
       "</div>"
      ],
      "text/plain": [
       "                                                algo      mean       std  \\\n",
       "0  LogisticRegression(max_iter=1000, random_state=0)  0.574214  0.027880   \n",
       "1                             KNeighborsClassifier()  0.525655  0.011783   \n",
       "2             DecisionTreeClassifier(random_state=0)  0.492751  0.024889   \n",
       "3             RandomForestClassifier(random_state=0)  0.533023  0.011089   \n",
       "4         GradientBoostingClassifier(random_state=0)  0.576356  0.015071   \n",
       "5                 AdaBoostClassifier(random_state=0)  0.576083  0.013287   \n",
       "6  XGBClassifier(base_score=None, booster=None, c...  0.568990  0.019190   \n",
       "\n",
       "                                        all  \n",
       "0  [0.5782, 0.5421, 0.5676, 0.6247, 0.5584]  \n",
       "1  [0.5199, 0.5368, 0.5206, 0.5414, 0.5095]  \n",
       "2  [0.5047, 0.5013, 0.4541, 0.4771, 0.5266]  \n",
       "3  [0.5395, 0.5503, 0.5175, 0.5281, 0.5297]  \n",
       "4  [0.5813, 0.5816, 0.5867, 0.5856, 0.5465]  \n",
       "5      [0.5838, 0.5865, 0.56, 0.5902, 0.56]  \n",
       "6  [0.5567, 0.5558, 0.5596, 0.6067, 0.5661]  "
      ]
     },
     "execution_count": 118,
     "metadata": {},
     "output_type": "execute_result"
    }
   ],
   "source": [
    "df_cv = pd.DataFrame({\n",
    "    'algo': models,\n",
    "    'mean': cv_mean,\n",
    "    'std': cv_std,\n",
    "    'all': cv_all\n",
    "})\n",
    "\n",
    "df_cv"
   ]
  },
  {
   "cell_type": "markdown",
   "metadata": {},
   "source": [
    "### After Oversampling"
   ]
  },
  {
   "cell_type": "code",
   "execution_count": 119,
   "metadata": {},
   "outputs": [],
   "source": [
    "models = [logreg, knn, dt, rf, gboost, adaboost, xgboost]\n",
    "\n",
    "cv_mean2 = []\n",
    "cv_std2 = []\n",
    "cv_all2 = []\n",
    "\n",
    "# Mencari model terbaik berdasarkan f1 score terbesar dan std terkecil\n",
    "for i in models:\n",
    "    model = i\n",
    "\n",
    "    \n",
    "    model_cv = cross_val_score(\n",
    "        estimator=model, \n",
    "        X = X_train_smote, \n",
    "        y = y_train_smote, \n",
    "        cv = 5, \n",
    "        scoring = 'f1',\n",
    "        error_score='raise'\n",
    "        )\n",
    "\n",
    "    cv_mean2.append(model_cv.mean())\n",
    "    cv_std2.append(model_cv.std())\n",
    "    cv_all2.append(model_cv.round(4))"
   ]
  },
  {
   "cell_type": "code",
   "execution_count": 120,
   "metadata": {},
   "outputs": [
    {
     "data": {
      "text/html": [
       "<div>\n",
       "<style scoped>\n",
       "    .dataframe tbody tr th:only-of-type {\n",
       "        vertical-align: middle;\n",
       "    }\n",
       "\n",
       "    .dataframe tbody tr th {\n",
       "        vertical-align: top;\n",
       "    }\n",
       "\n",
       "    .dataframe thead th {\n",
       "        text-align: right;\n",
       "    }\n",
       "</style>\n",
       "<table border=\"1\" class=\"dataframe\">\n",
       "  <thead>\n",
       "    <tr style=\"text-align: right;\">\n",
       "      <th></th>\n",
       "      <th>algo</th>\n",
       "      <th>mean</th>\n",
       "      <th>std</th>\n",
       "      <th>all</th>\n",
       "    </tr>\n",
       "  </thead>\n",
       "  <tbody>\n",
       "    <tr>\n",
       "      <th>0</th>\n",
       "      <td>LogisticRegression(max_iter=1000, random_state=0)</td>\n",
       "      <td>0.773484</td>\n",
       "      <td>0.011522</td>\n",
       "      <td>[0.7621, 0.759, 0.7749, 0.7823, 0.7891]</td>\n",
       "    </tr>\n",
       "    <tr>\n",
       "      <th>1</th>\n",
       "      <td>KNeighborsClassifier()</td>\n",
       "      <td>0.797176</td>\n",
       "      <td>0.019036</td>\n",
       "      <td>[0.7784, 0.7699, 0.8113, 0.8112, 0.8151]</td>\n",
       "    </tr>\n",
       "    <tr>\n",
       "      <th>2</th>\n",
       "      <td>DecisionTreeClassifier(random_state=0)</td>\n",
       "      <td>0.767903</td>\n",
       "      <td>0.041942</td>\n",
       "      <td>[0.7213, 0.7125, 0.7966, 0.8003, 0.8088]</td>\n",
       "    </tr>\n",
       "    <tr>\n",
       "      <th>3</th>\n",
       "      <td>RandomForestClassifier(random_state=0)</td>\n",
       "      <td>0.830755</td>\n",
       "      <td>0.036942</td>\n",
       "      <td>[0.7939, 0.7788, 0.8517, 0.8675, 0.862]</td>\n",
       "    </tr>\n",
       "    <tr>\n",
       "      <th>4</th>\n",
       "      <td>GradientBoostingClassifier(random_state=0)</td>\n",
       "      <td>0.807687</td>\n",
       "      <td>0.036599</td>\n",
       "      <td>[0.7529, 0.7744, 0.8365, 0.8372, 0.8375]</td>\n",
       "    </tr>\n",
       "    <tr>\n",
       "      <th>5</th>\n",
       "      <td>AdaBoostClassifier(random_state=0)</td>\n",
       "      <td>0.793253</td>\n",
       "      <td>0.016844</td>\n",
       "      <td>[0.7665, 0.7804, 0.8072, 0.8037, 0.8086]</td>\n",
       "    </tr>\n",
       "    <tr>\n",
       "      <th>6</th>\n",
       "      <td>XGBClassifier(base_score=None, booster=None, c...</td>\n",
       "      <td>0.820121</td>\n",
       "      <td>0.067268</td>\n",
       "      <td>[0.7257, 0.7512, 0.872, 0.8805, 0.8713]</td>\n",
       "    </tr>\n",
       "  </tbody>\n",
       "</table>\n",
       "</div>"
      ],
      "text/plain": [
       "                                                algo      mean       std  \\\n",
       "0  LogisticRegression(max_iter=1000, random_state=0)  0.773484  0.011522   \n",
       "1                             KNeighborsClassifier()  0.797176  0.019036   \n",
       "2             DecisionTreeClassifier(random_state=0)  0.767903  0.041942   \n",
       "3             RandomForestClassifier(random_state=0)  0.830755  0.036942   \n",
       "4         GradientBoostingClassifier(random_state=0)  0.807687  0.036599   \n",
       "5                 AdaBoostClassifier(random_state=0)  0.793253  0.016844   \n",
       "6  XGBClassifier(base_score=None, booster=None, c...  0.820121  0.067268   \n",
       "\n",
       "                                        all  \n",
       "0   [0.7621, 0.759, 0.7749, 0.7823, 0.7891]  \n",
       "1  [0.7784, 0.7699, 0.8113, 0.8112, 0.8151]  \n",
       "2  [0.7213, 0.7125, 0.7966, 0.8003, 0.8088]  \n",
       "3   [0.7939, 0.7788, 0.8517, 0.8675, 0.862]  \n",
       "4  [0.7529, 0.7744, 0.8365, 0.8372, 0.8375]  \n",
       "5  [0.7665, 0.7804, 0.8072, 0.8037, 0.8086]  \n",
       "6   [0.7257, 0.7512, 0.872, 0.8805, 0.8713]  "
      ]
     },
     "execution_count": 120,
     "metadata": {},
     "output_type": "execute_result"
    }
   ],
   "source": [
    "df_cv2 = pd.DataFrame({\n",
    "    'algo': models,\n",
    "    'mean': cv_mean2,\n",
    "    'std': cv_std2,\n",
    "    'all': cv_all2\n",
    "})\n",
    "\n",
    "df_cv2"
   ]
  },
  {
   "cell_type": "markdown",
   "metadata": {},
   "source": [
    "Model terbaik Random Forest"
   ]
  },
  {
   "cell_type": "markdown",
   "metadata": {},
   "source": [
    "Terlihat bahwa hasil evaluation metricsnya untuk F1 Score dari lebih baik setelah di oversampling daripada yang tanpa oversampling. \n",
    "\n",
    "Hal ini karena data customer yang churn diperbanyak menjadi sama dengan jumlah data customer yang tidak churn, sehingga presisi dan/atau recall naik. Dampak ini terhadap kasus permasalahan berarti model setelah di oversampling menjadi bertambahnya yang diprediksi churn dan kenyataannya churn juga, serta berkurangnya yang diprediksi churn tapi kenyataannya tidak churn dan sebaliknya. Sehingga, resiko kehilangan pemasukkan jadi tidak terduga dan lebih besar daripada yang sudah pasti meninggalkan penyedia langganan dan sia-sianya biaya, waktu dan usaha untuk mencari customer pengganti menjadi berkurang."
   ]
  },
  {
   "cell_type": "markdown",
   "metadata": {},
   "source": [
    "## Hyperparameter Tuning\n",
    "\n",
    "Tuning Random Forest"
   ]
  },
  {
   "cell_type": "code",
   "execution_count": 121,
   "metadata": {},
   "outputs": [],
   "source": [
    "hyperparam = {'n_estimators':range(60,90,10),\n",
    "              'max_depth':range(1,4,1),\n",
    "              'max_leaf_nodes':range(4,7,1),\n",
    "              'max_samples':range(5,8,1)}\n",
    "\n",
    "gs = GridSearchCV(\n",
    "    estimator=rf,\n",
    "    param_grid=hyperparam,\n",
    "    cv = 5,\n",
    "    scoring='f1',\n",
    "    n_jobs=-1)"
   ]
  },
  {
   "cell_type": "code",
   "execution_count": 122,
   "metadata": {},
   "outputs": [
    {
     "data": {
      "text/html": [
       "<style>#sk-container-id-2 {color: black;}#sk-container-id-2 pre{padding: 0;}#sk-container-id-2 div.sk-toggleable {background-color: white;}#sk-container-id-2 label.sk-toggleable__label {cursor: pointer;display: block;width: 100%;margin-bottom: 0;padding: 0.3em;box-sizing: border-box;text-align: center;}#sk-container-id-2 label.sk-toggleable__label-arrow:before {content: \"▸\";float: left;margin-right: 0.25em;color: #696969;}#sk-container-id-2 label.sk-toggleable__label-arrow:hover:before {color: black;}#sk-container-id-2 div.sk-estimator:hover label.sk-toggleable__label-arrow:before {color: black;}#sk-container-id-2 div.sk-toggleable__content {max-height: 0;max-width: 0;overflow: hidden;text-align: left;background-color: #f0f8ff;}#sk-container-id-2 div.sk-toggleable__content pre {margin: 0.2em;color: black;border-radius: 0.25em;background-color: #f0f8ff;}#sk-container-id-2 input.sk-toggleable__control:checked~div.sk-toggleable__content {max-height: 200px;max-width: 100%;overflow: auto;}#sk-container-id-2 input.sk-toggleable__control:checked~label.sk-toggleable__label-arrow:before {content: \"▾\";}#sk-container-id-2 div.sk-estimator input.sk-toggleable__control:checked~label.sk-toggleable__label {background-color: #d4ebff;}#sk-container-id-2 div.sk-label input.sk-toggleable__control:checked~label.sk-toggleable__label {background-color: #d4ebff;}#sk-container-id-2 input.sk-hidden--visually {border: 0;clip: rect(1px 1px 1px 1px);clip: rect(1px, 1px, 1px, 1px);height: 1px;margin: -1px;overflow: hidden;padding: 0;position: absolute;width: 1px;}#sk-container-id-2 div.sk-estimator {font-family: monospace;background-color: #f0f8ff;border: 1px dotted black;border-radius: 0.25em;box-sizing: border-box;margin-bottom: 0.5em;}#sk-container-id-2 div.sk-estimator:hover {background-color: #d4ebff;}#sk-container-id-2 div.sk-parallel-item::after {content: \"\";width: 100%;border-bottom: 1px solid gray;flex-grow: 1;}#sk-container-id-2 div.sk-label:hover label.sk-toggleable__label {background-color: #d4ebff;}#sk-container-id-2 div.sk-serial::before {content: \"\";position: absolute;border-left: 1px solid gray;box-sizing: border-box;top: 0;bottom: 0;left: 50%;z-index: 0;}#sk-container-id-2 div.sk-serial {display: flex;flex-direction: column;align-items: center;background-color: white;padding-right: 0.2em;padding-left: 0.2em;position: relative;}#sk-container-id-2 div.sk-item {position: relative;z-index: 1;}#sk-container-id-2 div.sk-parallel {display: flex;align-items: stretch;justify-content: center;background-color: white;position: relative;}#sk-container-id-2 div.sk-item::before, #sk-container-id-2 div.sk-parallel-item::before {content: \"\";position: absolute;border-left: 1px solid gray;box-sizing: border-box;top: 0;bottom: 0;left: 50%;z-index: -1;}#sk-container-id-2 div.sk-parallel-item {display: flex;flex-direction: column;z-index: 1;position: relative;background-color: white;}#sk-container-id-2 div.sk-parallel-item:first-child::after {align-self: flex-end;width: 50%;}#sk-container-id-2 div.sk-parallel-item:last-child::after {align-self: flex-start;width: 50%;}#sk-container-id-2 div.sk-parallel-item:only-child::after {width: 0;}#sk-container-id-2 div.sk-dashed-wrapped {border: 1px dashed gray;margin: 0 0.4em 0.5em 0.4em;box-sizing: border-box;padding-bottom: 0.4em;background-color: white;}#sk-container-id-2 div.sk-label label {font-family: monospace;font-weight: bold;display: inline-block;line-height: 1.2em;}#sk-container-id-2 div.sk-label-container {text-align: center;}#sk-container-id-2 div.sk-container {/* jupyter's `normalize.less` sets `[hidden] { display: none; }` but bootstrap.min.css set `[hidden] { display: none !important; }` so we also need the `!important` here to be able to override the default hidden behavior on the sphinx rendered scikit-learn.org. See: https://github.com/scikit-learn/scikit-learn/issues/21755 */display: inline-block !important;position: relative;}#sk-container-id-2 div.sk-text-repr-fallback {display: none;}</style><div id=\"sk-container-id-2\" class=\"sk-top-container\"><div class=\"sk-text-repr-fallback\"><pre>GridSearchCV(cv=5, estimator=RandomForestClassifier(random_state=0), n_jobs=-1,\n",
       "             param_grid={&#x27;max_depth&#x27;: range(1, 4),\n",
       "                         &#x27;max_leaf_nodes&#x27;: range(4, 7),\n",
       "                         &#x27;max_samples&#x27;: range(5, 8),\n",
       "                         &#x27;n_estimators&#x27;: range(60, 90, 10)},\n",
       "             scoring=&#x27;f1&#x27;)</pre><b>In a Jupyter environment, please rerun this cell to show the HTML representation or trust the notebook. <br />On GitHub, the HTML representation is unable to render, please try loading this page with nbviewer.org.</b></div><div class=\"sk-container\" hidden><div class=\"sk-item sk-dashed-wrapped\"><div class=\"sk-label-container\"><div class=\"sk-label sk-toggleable\"><input class=\"sk-toggleable__control sk-hidden--visually\" id=\"sk-estimator-id-4\" type=\"checkbox\" ><label for=\"sk-estimator-id-4\" class=\"sk-toggleable__label sk-toggleable__label-arrow\">GridSearchCV</label><div class=\"sk-toggleable__content\"><pre>GridSearchCV(cv=5, estimator=RandomForestClassifier(random_state=0), n_jobs=-1,\n",
       "             param_grid={&#x27;max_depth&#x27;: range(1, 4),\n",
       "                         &#x27;max_leaf_nodes&#x27;: range(4, 7),\n",
       "                         &#x27;max_samples&#x27;: range(5, 8),\n",
       "                         &#x27;n_estimators&#x27;: range(60, 90, 10)},\n",
       "             scoring=&#x27;f1&#x27;)</pre></div></div></div><div class=\"sk-parallel\"><div class=\"sk-parallel-item\"><div class=\"sk-item\"><div class=\"sk-label-container\"><div class=\"sk-label sk-toggleable\"><input class=\"sk-toggleable__control sk-hidden--visually\" id=\"sk-estimator-id-5\" type=\"checkbox\" ><label for=\"sk-estimator-id-5\" class=\"sk-toggleable__label sk-toggleable__label-arrow\">estimator: RandomForestClassifier</label><div class=\"sk-toggleable__content\"><pre>RandomForestClassifier(random_state=0)</pre></div></div></div><div class=\"sk-serial\"><div class=\"sk-item\"><div class=\"sk-estimator sk-toggleable\"><input class=\"sk-toggleable__control sk-hidden--visually\" id=\"sk-estimator-id-6\" type=\"checkbox\" ><label for=\"sk-estimator-id-6\" class=\"sk-toggleable__label sk-toggleable__label-arrow\">RandomForestClassifier</label><div class=\"sk-toggleable__content\"><pre>RandomForestClassifier(random_state=0)</pre></div></div></div></div></div></div></div></div></div></div>"
      ],
      "text/plain": [
       "GridSearchCV(cv=5, estimator=RandomForestClassifier(random_state=0), n_jobs=-1,\n",
       "             param_grid={'max_depth': range(1, 4),\n",
       "                         'max_leaf_nodes': range(4, 7),\n",
       "                         'max_samples': range(5, 8),\n",
       "                         'n_estimators': range(60, 90, 10)},\n",
       "             scoring='f1')"
      ]
     },
     "execution_count": 122,
     "metadata": {},
     "output_type": "execute_result"
    }
   ],
   "source": [
    "gs.fit(X_train_smote, y_train_smote)"
   ]
  },
  {
   "cell_type": "code",
   "execution_count": 123,
   "metadata": {},
   "outputs": [
    {
     "data": {
      "text/plain": [
       "0.7794645017217521"
      ]
     },
     "execution_count": 123,
     "metadata": {},
     "output_type": "execute_result"
    }
   ],
   "source": [
    "gs.best_score_"
   ]
  },
  {
   "cell_type": "code",
   "execution_count": 124,
   "metadata": {},
   "outputs": [
    {
     "data": {
      "text/plain": [
       "{'max_depth': 3, 'max_leaf_nodes': 5, 'max_samples': 6, 'n_estimators': 70}"
      ]
     },
     "execution_count": 124,
     "metadata": {},
     "output_type": "execute_result"
    }
   ],
   "source": [
    "gs.best_params_"
   ]
  },
  {
   "cell_type": "code",
   "execution_count": 125,
   "metadata": {},
   "outputs": [
    {
     "data": {
      "text/html": [
       "<div>\n",
       "<style scoped>\n",
       "    .dataframe tbody tr th:only-of-type {\n",
       "        vertical-align: middle;\n",
       "    }\n",
       "\n",
       "    .dataframe tbody tr th {\n",
       "        vertical-align: top;\n",
       "    }\n",
       "\n",
       "    .dataframe thead th {\n",
       "        text-align: right;\n",
       "    }\n",
       "</style>\n",
       "<table border=\"1\" class=\"dataframe\">\n",
       "  <thead>\n",
       "    <tr style=\"text-align: right;\">\n",
       "      <th></th>\n",
       "      <th>mean_fit_time</th>\n",
       "      <th>std_fit_time</th>\n",
       "      <th>mean_score_time</th>\n",
       "      <th>std_score_time</th>\n",
       "      <th>param_max_depth</th>\n",
       "      <th>param_max_leaf_nodes</th>\n",
       "      <th>param_max_samples</th>\n",
       "      <th>param_n_estimators</th>\n",
       "      <th>params</th>\n",
       "      <th>split0_test_score</th>\n",
       "      <th>split1_test_score</th>\n",
       "      <th>split2_test_score</th>\n",
       "      <th>split3_test_score</th>\n",
       "      <th>split4_test_score</th>\n",
       "      <th>mean_test_score</th>\n",
       "      <th>std_test_score</th>\n",
       "      <th>rank_test_score</th>\n",
       "    </tr>\n",
       "  </thead>\n",
       "  <tbody>\n",
       "    <tr>\n",
       "      <th>76</th>\n",
       "      <td>0.218907</td>\n",
       "      <td>0.006205</td>\n",
       "      <td>0.023050</td>\n",
       "      <td>0.005123</td>\n",
       "      <td>3</td>\n",
       "      <td>6</td>\n",
       "      <td>6</td>\n",
       "      <td>70</td>\n",
       "      <td>{'max_depth': 3, 'max_leaf_nodes': 6, 'max_sam...</td>\n",
       "      <td>0.771654</td>\n",
       "      <td>0.772727</td>\n",
       "      <td>0.786960</td>\n",
       "      <td>0.790625</td>\n",
       "      <td>0.775357</td>\n",
       "      <td>0.779465</td>\n",
       "      <td>0.007798</td>\n",
       "      <td>1</td>\n",
       "    </tr>\n",
       "    <tr>\n",
       "      <th>67</th>\n",
       "      <td>0.213533</td>\n",
       "      <td>0.009451</td>\n",
       "      <td>0.023711</td>\n",
       "      <td>0.006222</td>\n",
       "      <td>3</td>\n",
       "      <td>5</td>\n",
       "      <td>6</td>\n",
       "      <td>70</td>\n",
       "      <td>{'max_depth': 3, 'max_leaf_nodes': 5, 'max_sam...</td>\n",
       "      <td>0.771654</td>\n",
       "      <td>0.772727</td>\n",
       "      <td>0.786960</td>\n",
       "      <td>0.790625</td>\n",
       "      <td>0.775357</td>\n",
       "      <td>0.779465</td>\n",
       "      <td>0.007798</td>\n",
       "      <td>1</td>\n",
       "    </tr>\n",
       "    <tr>\n",
       "      <th>77</th>\n",
       "      <td>0.244320</td>\n",
       "      <td>0.004950</td>\n",
       "      <td>0.022886</td>\n",
       "      <td>0.002040</td>\n",
       "      <td>3</td>\n",
       "      <td>6</td>\n",
       "      <td>6</td>\n",
       "      <td>80</td>\n",
       "      <td>{'max_depth': 3, 'max_leaf_nodes': 6, 'max_sam...</td>\n",
       "      <td>0.756669</td>\n",
       "      <td>0.771765</td>\n",
       "      <td>0.794562</td>\n",
       "      <td>0.790373</td>\n",
       "      <td>0.782344</td>\n",
       "      <td>0.779143</td>\n",
       "      <td>0.013665</td>\n",
       "      <td>3</td>\n",
       "    </tr>\n",
       "    <tr>\n",
       "      <th>68</th>\n",
       "      <td>0.255018</td>\n",
       "      <td>0.009492</td>\n",
       "      <td>0.029259</td>\n",
       "      <td>0.002654</td>\n",
       "      <td>3</td>\n",
       "      <td>5</td>\n",
       "      <td>6</td>\n",
       "      <td>80</td>\n",
       "      <td>{'max_depth': 3, 'max_leaf_nodes': 5, 'max_sam...</td>\n",
       "      <td>0.756669</td>\n",
       "      <td>0.771765</td>\n",
       "      <td>0.794562</td>\n",
       "      <td>0.790373</td>\n",
       "      <td>0.782344</td>\n",
       "      <td>0.779143</td>\n",
       "      <td>0.013665</td>\n",
       "      <td>3</td>\n",
       "    </tr>\n",
       "    <tr>\n",
       "      <th>58</th>\n",
       "      <td>0.213547</td>\n",
       "      <td>0.006667</td>\n",
       "      <td>0.024789</td>\n",
       "      <td>0.004111</td>\n",
       "      <td>3</td>\n",
       "      <td>4</td>\n",
       "      <td>6</td>\n",
       "      <td>70</td>\n",
       "      <td>{'max_depth': 3, 'max_leaf_nodes': 4, 'max_sam...</td>\n",
       "      <td>0.768987</td>\n",
       "      <td>0.772122</td>\n",
       "      <td>0.787557</td>\n",
       "      <td>0.792779</td>\n",
       "      <td>0.772142</td>\n",
       "      <td>0.778717</td>\n",
       "      <td>0.009563</td>\n",
       "      <td>5</td>\n",
       "    </tr>\n",
       "    <tr>\n",
       "      <th>...</th>\n",
       "      <td>...</td>\n",
       "      <td>...</td>\n",
       "      <td>...</td>\n",
       "      <td>...</td>\n",
       "      <td>...</td>\n",
       "      <td>...</td>\n",
       "      <td>...</td>\n",
       "      <td>...</td>\n",
       "      <td>...</td>\n",
       "      <td>...</td>\n",
       "      <td>...</td>\n",
       "      <td>...</td>\n",
       "      <td>...</td>\n",
       "      <td>...</td>\n",
       "      <td>...</td>\n",
       "      <td>...</td>\n",
       "      <td>...</td>\n",
       "    </tr>\n",
       "    <tr>\n",
       "      <th>43</th>\n",
       "      <td>0.215505</td>\n",
       "      <td>0.002145</td>\n",
       "      <td>0.021616</td>\n",
       "      <td>0.006842</td>\n",
       "      <td>2</td>\n",
       "      <td>5</td>\n",
       "      <td>7</td>\n",
       "      <td>70</td>\n",
       "      <td>{'max_depth': 2, 'max_leaf_nodes': 5, 'max_sam...</td>\n",
       "      <td>0.765574</td>\n",
       "      <td>0.767742</td>\n",
       "      <td>0.742424</td>\n",
       "      <td>0.788889</td>\n",
       "      <td>0.781083</td>\n",
       "      <td>0.769142</td>\n",
       "      <td>0.015881</td>\n",
       "      <td>76</td>\n",
       "    </tr>\n",
       "    <tr>\n",
       "      <th>52</th>\n",
       "      <td>0.219008</td>\n",
       "      <td>0.010230</td>\n",
       "      <td>0.022897</td>\n",
       "      <td>0.006409</td>\n",
       "      <td>2</td>\n",
       "      <td>6</td>\n",
       "      <td>7</td>\n",
       "      <td>70</td>\n",
       "      <td>{'max_depth': 2, 'max_leaf_nodes': 6, 'max_sam...</td>\n",
       "      <td>0.765574</td>\n",
       "      <td>0.767742</td>\n",
       "      <td>0.742424</td>\n",
       "      <td>0.788889</td>\n",
       "      <td>0.781083</td>\n",
       "      <td>0.769142</td>\n",
       "      <td>0.015881</td>\n",
       "      <td>76</td>\n",
       "    </tr>\n",
       "    <tr>\n",
       "      <th>9</th>\n",
       "      <td>0.187198</td>\n",
       "      <td>0.014585</td>\n",
       "      <td>0.018284</td>\n",
       "      <td>0.003689</td>\n",
       "      <td>1</td>\n",
       "      <td>5</td>\n",
       "      <td>5</td>\n",
       "      <td>60</td>\n",
       "      <td>{'max_depth': 1, 'max_leaf_nodes': 5, 'max_sam...</td>\n",
       "      <td>0.740741</td>\n",
       "      <td>0.765661</td>\n",
       "      <td>0.776471</td>\n",
       "      <td>0.767662</td>\n",
       "      <td>0.776256</td>\n",
       "      <td>0.765358</td>\n",
       "      <td>0.013066</td>\n",
       "      <td>79</td>\n",
       "    </tr>\n",
       "    <tr>\n",
       "      <th>18</th>\n",
       "      <td>0.181472</td>\n",
       "      <td>0.002556</td>\n",
       "      <td>0.020067</td>\n",
       "      <td>0.002609</td>\n",
       "      <td>1</td>\n",
       "      <td>6</td>\n",
       "      <td>5</td>\n",
       "      <td>60</td>\n",
       "      <td>{'max_depth': 1, 'max_leaf_nodes': 6, 'max_sam...</td>\n",
       "      <td>0.740741</td>\n",
       "      <td>0.765661</td>\n",
       "      <td>0.776471</td>\n",
       "      <td>0.767662</td>\n",
       "      <td>0.776256</td>\n",
       "      <td>0.765358</td>\n",
       "      <td>0.013066</td>\n",
       "      <td>79</td>\n",
       "    </tr>\n",
       "    <tr>\n",
       "      <th>0</th>\n",
       "      <td>0.194736</td>\n",
       "      <td>0.007579</td>\n",
       "      <td>0.020749</td>\n",
       "      <td>0.001072</td>\n",
       "      <td>1</td>\n",
       "      <td>4</td>\n",
       "      <td>5</td>\n",
       "      <td>60</td>\n",
       "      <td>{'max_depth': 1, 'max_leaf_nodes': 4, 'max_sam...</td>\n",
       "      <td>0.740741</td>\n",
       "      <td>0.765661</td>\n",
       "      <td>0.776471</td>\n",
       "      <td>0.767662</td>\n",
       "      <td>0.776256</td>\n",
       "      <td>0.765358</td>\n",
       "      <td>0.013066</td>\n",
       "      <td>79</td>\n",
       "    </tr>\n",
       "  </tbody>\n",
       "</table>\n",
       "<p>81 rows × 17 columns</p>\n",
       "</div>"
      ],
      "text/plain": [
       "    mean_fit_time  std_fit_time  mean_score_time  std_score_time  \\\n",
       "76       0.218907      0.006205         0.023050        0.005123   \n",
       "67       0.213533      0.009451         0.023711        0.006222   \n",
       "77       0.244320      0.004950         0.022886        0.002040   \n",
       "68       0.255018      0.009492         0.029259        0.002654   \n",
       "58       0.213547      0.006667         0.024789        0.004111   \n",
       "..            ...           ...              ...             ...   \n",
       "43       0.215505      0.002145         0.021616        0.006842   \n",
       "52       0.219008      0.010230         0.022897        0.006409   \n",
       "9        0.187198      0.014585         0.018284        0.003689   \n",
       "18       0.181472      0.002556         0.020067        0.002609   \n",
       "0        0.194736      0.007579         0.020749        0.001072   \n",
       "\n",
       "   param_max_depth param_max_leaf_nodes param_max_samples param_n_estimators  \\\n",
       "76               3                    6                 6                 70   \n",
       "67               3                    5                 6                 70   \n",
       "77               3                    6                 6                 80   \n",
       "68               3                    5                 6                 80   \n",
       "58               3                    4                 6                 70   \n",
       "..             ...                  ...               ...                ...   \n",
       "43               2                    5                 7                 70   \n",
       "52               2                    6                 7                 70   \n",
       "9                1                    5                 5                 60   \n",
       "18               1                    6                 5                 60   \n",
       "0                1                    4                 5                 60   \n",
       "\n",
       "                                               params  split0_test_score  \\\n",
       "76  {'max_depth': 3, 'max_leaf_nodes': 6, 'max_sam...           0.771654   \n",
       "67  {'max_depth': 3, 'max_leaf_nodes': 5, 'max_sam...           0.771654   \n",
       "77  {'max_depth': 3, 'max_leaf_nodes': 6, 'max_sam...           0.756669   \n",
       "68  {'max_depth': 3, 'max_leaf_nodes': 5, 'max_sam...           0.756669   \n",
       "58  {'max_depth': 3, 'max_leaf_nodes': 4, 'max_sam...           0.768987   \n",
       "..                                                ...                ...   \n",
       "43  {'max_depth': 2, 'max_leaf_nodes': 5, 'max_sam...           0.765574   \n",
       "52  {'max_depth': 2, 'max_leaf_nodes': 6, 'max_sam...           0.765574   \n",
       "9   {'max_depth': 1, 'max_leaf_nodes': 5, 'max_sam...           0.740741   \n",
       "18  {'max_depth': 1, 'max_leaf_nodes': 6, 'max_sam...           0.740741   \n",
       "0   {'max_depth': 1, 'max_leaf_nodes': 4, 'max_sam...           0.740741   \n",
       "\n",
       "    split1_test_score  split2_test_score  split3_test_score  \\\n",
       "76           0.772727           0.786960           0.790625   \n",
       "67           0.772727           0.786960           0.790625   \n",
       "77           0.771765           0.794562           0.790373   \n",
       "68           0.771765           0.794562           0.790373   \n",
       "58           0.772122           0.787557           0.792779   \n",
       "..                ...                ...                ...   \n",
       "43           0.767742           0.742424           0.788889   \n",
       "52           0.767742           0.742424           0.788889   \n",
       "9            0.765661           0.776471           0.767662   \n",
       "18           0.765661           0.776471           0.767662   \n",
       "0            0.765661           0.776471           0.767662   \n",
       "\n",
       "    split4_test_score  mean_test_score  std_test_score  rank_test_score  \n",
       "76           0.775357         0.779465        0.007798                1  \n",
       "67           0.775357         0.779465        0.007798                1  \n",
       "77           0.782344         0.779143        0.013665                3  \n",
       "68           0.782344         0.779143        0.013665                3  \n",
       "58           0.772142         0.778717        0.009563                5  \n",
       "..                ...              ...             ...              ...  \n",
       "43           0.781083         0.769142        0.015881               76  \n",
       "52           0.781083         0.769142        0.015881               76  \n",
       "9            0.776256         0.765358        0.013066               79  \n",
       "18           0.776256         0.765358        0.013066               79  \n",
       "0            0.776256         0.765358        0.013066               79  \n",
       "\n",
       "[81 rows x 17 columns]"
      ]
     },
     "execution_count": 125,
     "metadata": {},
     "output_type": "execute_result"
    }
   ],
   "source": [
    "pd.DataFrame(gs.cv_results_).sort_values('rank_test_score')"
   ]
  },
  {
   "cell_type": "markdown",
   "metadata": {},
   "source": [
    "Performa model di train set:\n",
    "- Benchmark model: 0.53\n",
    "- Tuning Oversampling: 0.83\n",
    "- Hyperparameter tuning: 0.78\n",
    "\n",
    "Tidak perlu hyperparameter tuning"
   ]
  },
  {
   "cell_type": "markdown",
   "metadata": {},
   "source": [
    "## Predict to Test Set"
   ]
  },
  {
   "cell_type": "markdown",
   "metadata": {},
   "source": [
    "Default Parameter"
   ]
  },
  {
   "cell_type": "code",
   "execution_count": 126,
   "metadata": {},
   "outputs": [
    {
     "data": {
      "text/plain": [
       "0.46952595936794583"
      ]
     },
     "execution_count": 126,
     "metadata": {},
     "output_type": "execute_result"
    }
   ],
   "source": [
    "model = RandomForestClassifier(random_state=0)\n",
    "\n",
    "model.fit(X_train_encode_scale, y_train_encode)\n",
    "\n",
    "y_pred_default = model.predict(X_test_encode_scale)\n",
    "\n",
    "f1_score(y_test_encode, y_pred_default)"
   ]
  },
  {
   "cell_type": "markdown",
   "metadata": {},
   "source": [
    "After Tuning"
   ]
  },
  {
   "cell_type": "code",
   "execution_count": 127,
   "metadata": {},
   "outputs": [
    {
     "data": {
      "text/plain": [
       "0.5098814229249012"
      ]
     },
     "execution_count": 127,
     "metadata": {},
     "output_type": "execute_result"
    }
   ],
   "source": [
    "model = RandomForestClassifier(random_state=0)\n",
    "\n",
    "model.fit(X_train_smote, y_train_smote)\n",
    "\n",
    "y_pred_oversampling = model.predict(X_test_encode_scale)\n",
    "\n",
    "f1_score(y_test_encode, y_pred_oversampling)"
   ]
  },
  {
   "cell_type": "code",
   "execution_count": 128,
   "metadata": {},
   "outputs": [
    {
     "name": "stdout",
     "output_type": "stream",
     "text": [
      "0.46952595936794583 default parameter\n",
      "0.5098814229249012 after tuning\n"
     ]
    }
   ],
   "source": [
    "print(f1_score(y_test_encode, y_pred_default), 'default parameter')\n",
    "print(f1_score(y_test_encode, y_pred_oversampling), 'after tuning')\n"
   ]
  },
  {
   "cell_type": "code",
   "execution_count": 129,
   "metadata": {},
   "outputs": [
    {
     "data": {
      "image/png": "[encoded data removed]",
      "text/plain": [
       "<Figure size 1200x500 with 4 Axes>"
      ]
     },
     "metadata": {},
     "output_type": "display_data"
    }
   ],
   "source": [
    "plt.figure(figsize=(12,5))\n",
    "\n",
    "plt.subplot(1,2,1)\n",
    "sns.heatmap(confusion_matrix(y_test_encode, y_pred_default), annot=True, fmt='.0f')\n",
    "plt.title('Default Parameter')\n",
    "\n",
    "plt.subplot(1,2,2)\n",
    "sns.heatmap(confusion_matrix(y_test_encode, y_pred_oversampling), annot=True, fmt='.0f');\n",
    "plt.title('After Tuning');"
   ]
  },
  {
   "cell_type": "markdown",
   "metadata": {},
   "source": [
    "Dilihat dari matrix, setelah tuning oversampling presisi berkurang dan recall meningkat. Sehingga, F1 score tidak cocok untuk dijadikan metric utama dan perlu menggunakan PR Curve untuk mencari nilai precision dan recall yang tepat"
   ]
  },
  {
   "cell_type": "markdown",
   "metadata": {},
   "source": [
    "## PR Curve"
   ]
  },
  {
   "cell_type": "code",
   "execution_count": 130,
   "metadata": {},
   "outputs": [
    {
     "data": {
      "text/plain": [
       "array([0.6       , 0.47      , 0.14      , 0.28      , 0.        ,\n",
       "       0.89      , 0.4       , 0.31      , 0.        , 0.09      ,\n",
       "       0.02      , 0.41      , 0.03      , 0.2       , 0.        ,\n",
       "       0.07      , 0.31      , 0.23      , 0.02      , 0.48      ,\n",
       "       0.17      , 0.        , 0.        , 0.43      , 0.68      ,\n",
       "       0.16      , 0.22      , 0.        , 0.01      , 0.48      ,\n",
       "       0.32      , 0.33      , 0.        , 0.87      , 0.95      ,\n",
       "       0.93      , 0.46      , 0.        , 0.07      , 0.15      ,\n",
       "       0.84      , 0.1       , 0.08      , 0.48      , 0.42      ,\n",
       "       0.7       , 0.57      , 0.29      , 0.        , 0.08383333,\n",
       "       1.        , 0.85333333, 0.01      , 0.08      , 0.34      ,\n",
       "       0.76      , 0.22      , 0.15      , 0.48      , 0.27      ,\n",
       "       0.14      , 0.        , 0.85      , 0.88      , 0.17      ,\n",
       "       0.        , 0.09      , 0.03      , 0.7       , 0.58      ,\n",
       "       0.01      , 0.14      , 0.15      , 0.36      , 0.05      ,\n",
       "       0.79      , 0.03      , 0.07      , 0.5       , 0.        ,\n",
       "       0.01      , 0.        , 0.53      , 0.3       , 0.98      ,\n",
       "       0.04      , 0.12      , 0.17      , 0.19      , 0.24      ,\n",
       "       0.14      , 0.26      , 0.08      , 0.        , 0.01      ,\n",
       "       0.6       , 0.97      , 0.13      , 0.41      , 0.55      ,\n",
       "       0.99      , 0.48      , 0.08      , 0.285     , 0.01      ,\n",
       "       0.02      , 0.13      , 0.57      , 0.04      , 0.08      ,\n",
       "       0.01      , 0.78      , 0.12      , 0.65      , 0.1       ,\n",
       "       0.39      , 0.26      , 0.06      , 0.51      , 0.35      ,\n",
       "       0.        , 0.        , 0.35      , 0.81      , 0.2       ,\n",
       "       0.01      , 0.53      , 0.03      , 0.43      , 1.        ,\n",
       "       0.        , 0.7225    , 0.91      , 0.29      , 0.54      ,\n",
       "       0.        , 0.89      , 0.56      , 0.25      , 0.        ,\n",
       "       0.1       , 0.21      , 0.36      , 0.14      , 0.77      ,\n",
       "       0.75      , 0.19      , 0.1       , 0.32      , 0.        ,\n",
       "       0.        , 0.        , 0.16      , 0.18      , 0.18      ,\n",
       "       0.19      , 0.06      , 0.47      , 0.        , 0.09      ,\n",
       "       0.01      , 0.05      , 0.005     , 0.09      , 0.53      ,\n",
       "       0.        , 0.02      , 0.15      , 0.14      , 0.09      ,\n",
       "       0.84      , 0.01      , 0.01      , 0.12      , 0.4       ,\n",
       "       0.01      , 0.        , 0.51      , 0.17      , 0.34      ,\n",
       "       0.06      , 0.1       , 0.        , 0.28      , 0.01      ,\n",
       "       0.48      , 0.25      , 0.19      , 0.95      , 0.1       ,\n",
       "       0.02      , 0.35      , 0.33      , 0.61      , 0.19      ,\n",
       "       0.17      , 0.6       , 0.89      , 0.01      , 0.24      ,\n",
       "       0.05      , 0.4       , 0.56      , 0.24      , 0.86      ,\n",
       "       0.57      , 0.        , 0.27      , 0.97      , 0.3       ,\n",
       "       0.25      , 0.4       , 0.11      , 0.32      , 0.41      ,\n",
       "       0.14      , 0.45      , 0.01      , 0.        , 0.99      ,\n",
       "       0.39      , 0.09      , 0.        , 0.88      , 0.        ,\n",
       "       0.25      , 0.1       , 0.39      , 0.48      , 0.        ,\n",
       "       0.93      , 0.34      , 0.83      , 0.01      , 0.05      ,\n",
       "       0.95      , 0.01      , 0.53      , 0.43      , 0.21      ,\n",
       "       0.44      , 0.02      , 0.        , 0.42      , 0.07      ,\n",
       "       0.        , 0.9       , 0.        , 0.4       , 0.35      ,\n",
       "       0.05      , 0.        , 0.98      , 0.        , 0.46      ,\n",
       "       0.09      , 0.03      , 0.14      , 0.        , 0.49      ,\n",
       "       0.12      , 0.57      , 0.66      , 0.32      , 0.04      ,\n",
       "       0.86      , 0.        , 0.31      , 0.05      , 0.04      ,\n",
       "       0.        , 0.72      , 0.02      , 0.27      , 0.38      ,\n",
       "       0.13      , 0.88      , 0.        , 0.        , 0.04      ,\n",
       "       0.01      , 0.03      , 0.01      , 0.35      , 1.        ,\n",
       "       0.88      , 0.83      , 0.28      , 0.7       , 0.27483333,\n",
       "       0.47266667, 0.65      , 0.1       , 0.14      , 0.27      ,\n",
       "       0.        , 0.73      , 0.95      , 0.27      , 0.26      ,\n",
       "       0.92      , 0.08      , 0.45      , 0.02      , 0.15      ,\n",
       "       0.08      , 0.79      , 0.25      , 0.02      , 0.        ,\n",
       "       0.32      , 0.13      , 0.55      , 0.875     , 0.01      ,\n",
       "       0.36      , 0.79      , 0.06      , 0.49      , 0.32      ,\n",
       "       1.        , 0.75      , 0.        , 0.29      , 0.        ,\n",
       "       0.48      , 0.57      , 0.13      , 0.95      , 0.2       ,\n",
       "       0.01      , 0.        , 0.72      , 0.18      , 0.72      ,\n",
       "       0.67      , 0.71      , 0.05      , 0.73      , 0.04      ,\n",
       "       0.49      , 0.02      , 0.        , 0.        , 0.36      ,\n",
       "       0.84      , 0.1       , 0.03      , 0.13      , 0.06      ,\n",
       "       0.18      , 0.34      , 0.        , 0.        , 0.98      ,\n",
       "       0.995     , 0.15      , 0.02      , 1.        , 0.04      ,\n",
       "       0.03      , 0.3       , 0.63      , 0.21      , 0.24      ,\n",
       "       0.48      , 0.14      , 0.69      , 0.        , 0.01      ,\n",
       "       0.51      , 0.83      , 0.4       , 0.01      , 0.        ,\n",
       "       0.16      , 0.82      , 0.5       , 0.07      , 0.        ,\n",
       "       0.07      , 0.34      , 0.12      , 0.54      , 0.96      ,\n",
       "       0.26      , 0.15      , 0.26      , 0.        , 0.07      ,\n",
       "       0.99      , 0.13      , 0.73      , 0.        , 0.        ,\n",
       "       0.05      , 0.55666667, 0.01      , 0.98      , 0.38      ,\n",
       "       0.29      , 0.14      , 1.        , 0.67      , 0.82      ,\n",
       "       0.05      , 0.03      , 0.08      , 0.13      , 0.22      ,\n",
       "       0.6       , 0.18      , 0.66      , 0.24      , 0.34      ,\n",
       "       0.41      , 0.        , 0.24      , 0.19      , 0.19      ,\n",
       "       0.34      , 0.07      , 0.87      , 0.        , 0.44      ,\n",
       "       0.3       , 0.98833333, 0.04      , 0.1       , 0.        ,\n",
       "       0.88      , 0.17      , 0.26      , 0.29      , 0.08      ,\n",
       "       0.52      , 0.        , 0.05      , 0.99      , 0.74877778,\n",
       "       0.07      , 0.02      , 0.58      , 0.        , 0.04      ,\n",
       "       0.55      , 0.72      , 0.61      , 0.98      , 0.93      ,\n",
       "       0.25      , 0.27      , 0.17      , 0.96      , 0.43      ,\n",
       "       0.        , 0.31      , 0.92      , 0.46      , 0.01      ,\n",
       "       0.        , 0.05      , 0.        , 0.66      , 0.19      ,\n",
       "       0.48      , 0.54      , 0.98      , 0.01      , 0.93      ,\n",
       "       0.34583333, 1.        , 0.01      , 0.09      , 0.99      ,\n",
       "       0.02      , 0.71      , 0.        , 0.68      , 0.23333333,\n",
       "       0.325     , 0.        , 0.15      , 0.56      , 0.01      ,\n",
       "       0.07      , 0.07      , 0.06      , 0.14      , 0.04      ,\n",
       "       0.09      , 0.06      , 0.24      , 0.34      , 0.01      ,\n",
       "       0.79      , 0.05      , 0.83      , 0.05      , 0.15      ,\n",
       "       0.33      , 0.02      , 0.99      , 0.2       , 0.4       ,\n",
       "       0.        , 0.28      , 0.        , 0.12      , 0.29      ,\n",
       "       0.58      , 0.82      , 0.99      , 0.37      , 0.54      ,\n",
       "       0.08      , 0.34      , 0.3       , 0.35      , 0.42      ,\n",
       "       0.29      , 0.7       , 0.01      , 0.98      , 0.61      ,\n",
       "       0.        , 0.04      , 0.02      , 0.88      , 0.        ,\n",
       "       0.        , 0.31      , 0.15      , 0.05      , 0.01      ,\n",
       "       0.09      , 0.24      , 0.        , 0.17      , 0.47      ,\n",
       "       0.        , 0.        , 0.08      , 0.36      , 0.02      ,\n",
       "       0.03      , 0.99      , 0.54      , 0.96      , 0.05      ,\n",
       "       0.46      , 0.63      , 0.94      , 0.38      , 0.6       ,\n",
       "       0.02      , 0.04      , 0.84      , 0.38      , 0.99      ,\n",
       "       0.52      , 0.7       , 0.07      , 0.04      , 0.61      ,\n",
       "       0.13      , 0.01      , 0.01      , 0.9       , 0.03      ,\n",
       "       0.        , 0.31      , 0.06      , 0.04      , 0.71      ,\n",
       "       0.85      , 0.27      , 0.        , 0.97      , 0.72      ,\n",
       "       0.28      , 0.43      , 0.84      , 0.01      , 0.05      ,\n",
       "       0.        , 0.3       , 0.02      , 0.36      , 0.9       ,\n",
       "       1.        , 0.        , 0.16      , 0.09      , 0.49      ,\n",
       "       0.07      , 0.02      , 0.        , 0.79      , 0.        ,\n",
       "       0.05      , 0.        , 0.25      , 0.33      , 0.37      ,\n",
       "       0.06      , 0.03      , 0.14      , 0.99      , 0.07      ,\n",
       "       0.01      , 0.        , 0.15      , 0.        , 0.68      ,\n",
       "       0.2       , 0.02      , 0.17      , 0.01      , 0.21      ,\n",
       "       0.39      , 0.32      , 0.13      , 0.        , 0.77      ,\n",
       "       0.6       , 0.11      , 0.        , 0.31      , 0.701     ,\n",
       "       0.2425    , 0.54      , 0.02      , 0.        , 0.03      ,\n",
       "       0.42      , 0.91      , 0.        , 0.05      , 0.9       ,\n",
       "       0.84      , 0.        , 0.35      , 0.28      , 0.1       ,\n",
       "       0.29      , 0.93      , 0.83      , 0.04      , 0.        ,\n",
       "       0.        , 0.7       , 0.01      , 0.        , 0.        ,\n",
       "       0.11      , 0.05      , 0.04      , 0.        , 0.31      ,\n",
       "       0.87      , 0.1       , 0.16      , 0.        , 0.58      ,\n",
       "       0.08      , 0.        , 0.11      , 0.57      , 0.76      ,\n",
       "       0.94      , 0.33      , 0.        , 0.07      , 0.52      ,\n",
       "       0.25083333, 0.96      , 0.04      , 0.53      , 0.96      ,\n",
       "       0.01      , 0.93      , 0.06      , 0.        , 0.74      ,\n",
       "       0.58      , 0.07      , 0.368     , 0.08      , 0.96066667,\n",
       "       0.18      , 0.18      , 0.08      , 0.08      , 0.68      ,\n",
       "       0.11      , 0.42      , 0.34      , 0.56      , 0.        ,\n",
       "       0.95      , 0.99      , 0.62      , 0.        , 0.        ,\n",
       "       0.4       , 0.03      , 0.        , 0.85      , 0.3       ,\n",
       "       0.28      , 0.35      , 0.11      , 0.45      , 0.        ,\n",
       "       0.59      , 0.        , 0.5       , 0.37      , 0.        ,\n",
       "       0.21      , 0.305     , 0.27      , 0.55      , 0.07      ,\n",
       "       0.87      , 0.11      , 0.        , 0.99      , 0.01      ,\n",
       "       0.42      , 0.36      , 0.26      , 0.06      , 0.1       ,\n",
       "       0.11      , 0.08      , 0.        , 0.05      , 0.01      ,\n",
       "       0.07      , 0.23      , 0.83      , 0.        , 0.31      ,\n",
       "       0.77      , 0.14      , 0.01      , 0.01      , 0.26      ,\n",
       "       1.        , 0.49      , 0.5       , 0.21      , 0.49      ,\n",
       "       0.01      , 0.38666667, 0.02      , 0.14      , 0.65      ,\n",
       "       0.38      , 0.73      , 0.        , 0.58      , 0.79      ,\n",
       "       0.        , 0.02      , 0.91      , 0.35      , 0.4       ,\n",
       "       0.        , 0.03      , 0.03      , 0.56      , 0.09      ,\n",
       "       0.24      , 0.04      , 0.03      , 0.12      , 0.66      ,\n",
       "       0.1       , 0.03      , 0.01      , 0.        , 0.1       ,\n",
       "       0.42      , 0.05      , 0.79      , 0.08      , 0.49      ,\n",
       "       0.        , 0.03      , 0.41      , 0.2       , 0.        ,\n",
       "       0.        , 0.        , 0.01      , 0.47      , 0.46      ,\n",
       "       0.28      , 0.65      , 0.33      , 0.03      , 0.26      ,\n",
       "       0.05      , 0.08      , 0.33      , 0.01      , 0.91      ,\n",
       "       0.08      , 0.18      , 0.        , 0.        , 0.41      ,\n",
       "       0.06      , 0.77      , 0.51      , 0.12      , 0.87      ,\n",
       "       0.07      , 0.        , 0.06      , 0.89      , 0.97      ,\n",
       "       0.        , 0.12      , 0.04      , 0.58      , 0.31      ,\n",
       "       1.        , 0.13      , 0.        , 0.01      , 0.01      ,\n",
       "       0.        , 0.08      , 0.        , 0.37      , 0.05      ,\n",
       "       0.63      , 0.25      , 0.24      , 0.17      , 0.03      ,\n",
       "       0.06      , 0.02      , 0.31      , 0.35      , 0.7       ,\n",
       "       0.02      , 0.38      , 1.        , 0.01      , 0.        ,\n",
       "       0.69      , 0.07      , 0.43      , 0.1       , 0.59      ,\n",
       "       0.        , 0.37      , 0.01      , 0.06      , 0.06      ,\n",
       "       0.07      , 0.47      , 0.25      , 0.11      , 0.23      ,\n",
       "       0.01      , 0.45      , 0.27      , 0.        , 0.25      ,\n",
       "       0.15      , 0.07      , 0.97583333, 0.76      , 0.22      ,\n",
       "       0.07      , 0.66      , 0.02      , 0.99      , 0.02      ,\n",
       "       0.24      , 0.124     , 0.81      , 0.04      , 0.28      ,\n",
       "       0.71      , 0.23      , 0.04      , 0.09      , 0.46      ,\n",
       "       0.        , 0.        , 0.04      , 0.96      , 0.27      ,\n",
       "       0.92      , 0.86      , 0.31      , 0.25      , 0.        ,\n",
       "       0.07      , 0.83      , 0.95116667, 0.23      , 0.44      ,\n",
       "       0.        , 0.05      , 0.27      , 0.        , 0.35      ,\n",
       "       0.73      , 0.59      , 0.50566667, 1.        , 0.35333333,\n",
       "       0.94      , 0.09      , 0.63      , 0.99      , 0.06      ,\n",
       "       0.02      , 0.        , 0.02      , 0.88      , 0.48      ,\n",
       "       0.        , 0.09      , 0.03      , 1.        , 0.17      ,\n",
       "       0.03      , 0.24      , 0.72      , 0.27      , 0.31      ,\n",
       "       0.37      , 0.17      , 0.77      , 0.57      , 0.85      ,\n",
       "       0.1       , 0.11      , 0.97      , 0.09      , 0.84      ,\n",
       "       0.06      , 0.39      , 0.87      , 0.13      , 0.98      ,\n",
       "       0.01      , 0.        , 0.69      , 0.2       , 0.9       ,\n",
       "       0.05      , 0.        , 0.01      , 0.21      , 0.21      ,\n",
       "       0.55      , 0.24      , 0.27      , 0.02      , 0.98      ,\n",
       "       0.38      ])"
      ]
     },
     "execution_count": 130,
     "metadata": {},
     "output_type": "execute_result"
    }
   ],
   "source": [
    "# model\n",
    "model = RandomForestClassifier(random_state=0)\n",
    "\n",
    "# fit\n",
    "model.fit(X_train_smote, y_train_smote)\n",
    "\n",
    "# predict\n",
    "y_pred_after_proba =model.predict_proba(X_test_encode_scale)[:,1]\n",
    "y_pred_after_proba"
   ]
  },
  {
   "cell_type": "code",
   "execution_count": 131,
   "metadata": {},
   "outputs": [
    {
     "data": {
      "text/plain": [
       "(array([0.26570546, 0.30227001, 0.30263158, 0.32183908, 0.33200531,\n",
       "        0.34246575, 0.34887006, 0.36163982, 0.36842105, 0.3775351 ,\n",
       "        0.38486312, 0.38548387, 0.39072848, 0.39863714, 0.40034662,\n",
       "        0.40140845, 0.4021164 , 0.40720721, 0.41666667, 0.42234848,\n",
       "        0.42638623, 0.43444227, 0.43538767, 0.44242424, 0.44057377,\n",
       "        0.43541667, 0.43487395, 0.4373673 , 0.43617021, 0.4463895 ,\n",
       "        0.44517544, 0.45168539, 0.4527027 , 0.45977011, 0.46682464,\n",
       "        0.46555819, 0.47572816, 0.47688564, 0.4764268 , 0.47979798,\n",
       "        0.48101266, 0.48691099, 0.49333333, 0.49197861, 0.49318801,\n",
       "        0.49019608, 0.49157303, 0.49565217, 0.49418605, 0.49851632,\n",
       "        0.49702381, 0.4969697 , 0.50154799, 0.5       , 0.49842271,\n",
       "        0.50324675, 0.50662252, 0.50847458, 0.51557093, 0.51398601,\n",
       "        0.5177305 , 0.51449275, 0.51291513, 0.51111111, 0.51737452,\n",
       "        0.51984127, 0.52016129, 0.52226721, 0.52674897, 0.525     ,\n",
       "        0.52340426, 0.51528384, 0.52232143, 0.52017937, 0.51376147,\n",
       "        0.52132701, 0.53431373, 0.54228856, 0.54871795, 0.55497382,\n",
       "        0.55263158, 0.5483871 , 0.54945055, 0.55932203, 0.55428571,\n",
       "        0.55555556, 0.55357143, 0.55900621, 0.5625    , 0.56410256,\n",
       "        0.58      , 0.58389262, 0.59027778, 0.59440559, 0.5915493 ,\n",
       "        0.59285714, 0.59854015, 0.61363636, 0.61068702, 0.61290323,\n",
       "        0.60655738, 0.60504202, 0.60714286, 0.61904762, 0.61386139,\n",
       "        0.61      , 0.6185567 , 0.62637363, 0.63333333, 0.6746988 ,\n",
       "        0.65822785, 0.66216216, 0.68571429, 0.70149254, 0.70491803,\n",
       "        0.68965517, 0.71153846, 0.7254902 , 0.71111111, 0.72727273,\n",
       "        0.69230769, 0.68421053, 0.68965517, 0.71428571, 0.71428571,\n",
       "        0.69230769, 1.        ]),\n",
       " array([1.        , 0.98062016, 0.98062016, 0.97674419, 0.96899225,\n",
       "        0.96899225, 0.95736434, 0.95736434, 0.9496124 , 0.9379845 ,\n",
       "        0.92635659, 0.92635659, 0.91472868, 0.90697674, 0.89534884,\n",
       "        0.88372093, 0.88372093, 0.87596899, 0.87209302, 0.86434109,\n",
       "        0.86434109, 0.86046512, 0.84883721, 0.84883721, 0.83333333,\n",
       "        0.81007752, 0.80232558, 0.79844961, 0.79457364, 0.79069767,\n",
       "        0.78682171, 0.77906977, 0.77906977, 0.7751938 , 0.76356589,\n",
       "        0.75968992, 0.75968992, 0.75968992, 0.74418605, 0.73643411,\n",
       "        0.73643411, 0.72093023, 0.71705426, 0.71317829, 0.70155039,\n",
       "        0.67829457, 0.67829457, 0.6627907 , 0.65891473, 0.65116279,\n",
       "        0.64728682, 0.63565891, 0.62790698, 0.62403101, 0.6124031 ,\n",
       "        0.60077519, 0.59302326, 0.58139535, 0.57751938, 0.56976744,\n",
       "        0.56589147, 0.5503876 , 0.53875969, 0.53488372, 0.51937984,\n",
       "        0.50775194, 0.5       , 0.5       , 0.49612403, 0.48837209,\n",
       "        0.47674419, 0.45736434, 0.45348837, 0.4496124 , 0.43410853,\n",
       "        0.42635659, 0.42248062, 0.42248062, 0.41472868, 0.41085271,\n",
       "        0.40697674, 0.39534884, 0.3875969 , 0.38372093, 0.37596899,\n",
       "        0.36821705, 0.36046512, 0.34883721, 0.34883721, 0.34108527,\n",
       "        0.3372093 , 0.3372093 , 0.32945736, 0.32945736, 0.3255814 ,\n",
       "        0.32170543, 0.31782946, 0.31395349, 0.31007752, 0.29457364,\n",
       "        0.28682171, 0.27906977, 0.26356589, 0.25193798, 0.24031008,\n",
       "        0.23643411, 0.23255814, 0.22093023, 0.22093023, 0.21705426,\n",
       "        0.20155039, 0.18992248, 0.18604651, 0.18217054, 0.16666667,\n",
       "        0.15503876, 0.14341085, 0.14341085, 0.12403101, 0.12403101,\n",
       "        0.10465116, 0.10077519, 0.07751938, 0.07751938, 0.03875969,\n",
       "        0.03488372, 0.        ]),\n",
       " array([0.        , 0.005     , 0.01      , 0.02      , 0.03      ,\n",
       "        0.04      , 0.05      , 0.06      , 0.07      , 0.08      ,\n",
       "        0.08383333, 0.09      , 0.1       , 0.11      , 0.12      ,\n",
       "        0.124     , 0.13      , 0.14      , 0.15      , 0.16      ,\n",
       "        0.17      , 0.18      , 0.19      , 0.2       , 0.21      ,\n",
       "        0.22      , 0.23      , 0.23333333, 0.24      , 0.2425    ,\n",
       "        0.25      , 0.25083333, 0.26      , 0.27      , 0.27483333,\n",
       "        0.28      , 0.285     , 0.29      , 0.3       , 0.305     ,\n",
       "        0.31      , 0.32      , 0.325     , 0.33      , 0.34      ,\n",
       "        0.34583333, 0.35      , 0.35333333, 0.36      , 0.368     ,\n",
       "        0.37      , 0.38      , 0.38666667, 0.39      , 0.4       ,\n",
       "        0.41      , 0.42      , 0.43      , 0.44      , 0.45      ,\n",
       "        0.46      , 0.47      , 0.47266667, 0.48      , 0.49      ,\n",
       "        0.5       , 0.50566667, 0.51      , 0.52      , 0.53      ,\n",
       "        0.54      , 0.55      , 0.55666667, 0.56      , 0.57      ,\n",
       "        0.58      , 0.59      , 0.6       , 0.61      , 0.62      ,\n",
       "        0.63      , 0.65      , 0.66      , 0.67      , 0.68      ,\n",
       "        0.69      , 0.7       , 0.701     , 0.71      , 0.72      ,\n",
       "        0.7225    , 0.73      , 0.74      , 0.74877778, 0.75      ,\n",
       "        0.76      , 0.77      , 0.78      , 0.79      , 0.81      ,\n",
       "        0.82      , 0.83      , 0.84      , 0.85      , 0.85333333,\n",
       "        0.86      , 0.87      , 0.875     , 0.88      , 0.89      ,\n",
       "        0.9       , 0.91      , 0.92      , 0.93      , 0.94      ,\n",
       "        0.95      , 0.95116667, 0.96      , 0.96066667, 0.97      ,\n",
       "        0.97583333, 0.98      , 0.98833333, 0.99      , 0.995     ,\n",
       "        1.        ]))"
      ]
     },
     "execution_count": 131,
     "metadata": {},
     "output_type": "execute_result"
    }
   ],
   "source": [
    "precision, recall, threshold = precision_recall_curve(y_test_encode, y_pred_after_proba)\n",
    "precision, recall, threshold"
   ]
  },
  {
   "cell_type": "code",
   "execution_count": 132,
   "metadata": {},
   "outputs": [
    {
     "data": {
      "text/html": [
       "<div>\n",
       "<style scoped>\n",
       "    .dataframe tbody tr th:only-of-type {\n",
       "        vertical-align: middle;\n",
       "    }\n",
       "\n",
       "    .dataframe tbody tr th {\n",
       "        vertical-align: top;\n",
       "    }\n",
       "\n",
       "    .dataframe thead th {\n",
       "        text-align: right;\n",
       "    }\n",
       "</style>\n",
       "<table border=\"1\" class=\"dataframe\">\n",
       "  <thead>\n",
       "    <tr style=\"text-align: right;\">\n",
       "      <th></th>\n",
       "      <th>threshold</th>\n",
       "      <th>precision</th>\n",
       "      <th>recall</th>\n",
       "    </tr>\n",
       "  </thead>\n",
       "  <tbody>\n",
       "    <tr>\n",
       "      <th>0</th>\n",
       "      <td>0.000000</td>\n",
       "      <td>0.265705</td>\n",
       "      <td>1.000000</td>\n",
       "    </tr>\n",
       "    <tr>\n",
       "      <th>1</th>\n",
       "      <td>0.005000</td>\n",
       "      <td>0.302270</td>\n",
       "      <td>0.980620</td>\n",
       "    </tr>\n",
       "    <tr>\n",
       "      <th>2</th>\n",
       "      <td>0.010000</td>\n",
       "      <td>0.302632</td>\n",
       "      <td>0.980620</td>\n",
       "    </tr>\n",
       "    <tr>\n",
       "      <th>3</th>\n",
       "      <td>0.020000</td>\n",
       "      <td>0.321839</td>\n",
       "      <td>0.976744</td>\n",
       "    </tr>\n",
       "    <tr>\n",
       "      <th>4</th>\n",
       "      <td>0.030000</td>\n",
       "      <td>0.332005</td>\n",
       "      <td>0.968992</td>\n",
       "    </tr>\n",
       "    <tr>\n",
       "      <th>...</th>\n",
       "      <td>...</td>\n",
       "      <td>...</td>\n",
       "      <td>...</td>\n",
       "    </tr>\n",
       "    <tr>\n",
       "      <th>122</th>\n",
       "      <td>0.988333</td>\n",
       "      <td>0.689655</td>\n",
       "      <td>0.077519</td>\n",
       "    </tr>\n",
       "    <tr>\n",
       "      <th>123</th>\n",
       "      <td>0.990000</td>\n",
       "      <td>0.714286</td>\n",
       "      <td>0.077519</td>\n",
       "    </tr>\n",
       "    <tr>\n",
       "      <th>124</th>\n",
       "      <td>0.995000</td>\n",
       "      <td>0.714286</td>\n",
       "      <td>0.038760</td>\n",
       "    </tr>\n",
       "    <tr>\n",
       "      <th>125</th>\n",
       "      <td>1.000000</td>\n",
       "      <td>0.692308</td>\n",
       "      <td>0.034884</td>\n",
       "    </tr>\n",
       "    <tr>\n",
       "      <th>126</th>\n",
       "      <td>1.000000</td>\n",
       "      <td>1.000000</td>\n",
       "      <td>0.000000</td>\n",
       "    </tr>\n",
       "  </tbody>\n",
       "</table>\n",
       "<p>127 rows × 3 columns</p>\n",
       "</div>"
      ],
      "text/plain": [
       "     threshold  precision    recall\n",
       "0     0.000000   0.265705  1.000000\n",
       "1     0.005000   0.302270  0.980620\n",
       "2     0.010000   0.302632  0.980620\n",
       "3     0.020000   0.321839  0.976744\n",
       "4     0.030000   0.332005  0.968992\n",
       "..         ...        ...       ...\n",
       "122   0.988333   0.689655  0.077519\n",
       "123   0.990000   0.714286  0.077519\n",
       "124   0.995000   0.714286  0.038760\n",
       "125   1.000000   0.692308  0.034884\n",
       "126   1.000000   1.000000  0.000000\n",
       "\n",
       "[127 rows x 3 columns]"
      ]
     },
     "execution_count": 132,
     "metadata": {},
     "output_type": "execute_result"
    }
   ],
   "source": [
    "df_threshold = pd.DataFrame()\n",
    "df_threshold['threshold'] = list(threshold) + [1]\n",
    "df_threshold['precision'] = precision \n",
    "df_threshold['recall'] = recall\n",
    "df_threshold"
   ]
  },
  {
   "cell_type": "code",
   "execution_count": 133,
   "metadata": {},
   "outputs": [
    {
     "data": {
      "image/png": "[encoded data removed]",
      "text/plain": [
       "<Figure size 640x480 with 1 Axes>"
      ]
     },
     "metadata": {},
     "output_type": "display_data"
    }
   ],
   "source": [
    "PrecisionRecallDisplay(precision, recall).plot();"
   ]
  },
  {
   "cell_type": "markdown",
   "metadata": {},
   "source": [
    "Recall yang lebih tinggi --> kita perlu menekan nilai FN, karena untuk mengurangi Custumer yang sebenarnya churn tapi diprediksi tidak churn."
   ]
  },
  {
   "cell_type": "code",
   "execution_count": 134,
   "metadata": {},
   "outputs": [
    {
     "data": {
      "text/plain": [
       "array([1, 1, 1, 1, 0, 1, 1, 1, 0, 1, 1, 1, 1, 1, 0, 1, 1, 1, 1, 1, 1, 0,\n",
       "       0, 1, 1, 1, 1, 0, 0, 1, 1, 1, 0, 1, 1, 1, 1, 0, 1, 1, 1, 1, 1, 1,\n",
       "       1, 1, 1, 1, 0, 1, 1, 1, 0, 1, 1, 1, 1, 1, 1, 1, 1, 0, 1, 1, 1, 0,\n",
       "       1, 1, 1, 1, 0, 1, 1, 1, 1, 1, 1, 1, 1, 0, 0, 0, 1, 1, 1, 1, 1, 1,\n",
       "       1, 1, 1, 1, 1, 0, 0, 1, 1, 1, 1, 1, 1, 1, 1, 1, 0, 1, 1, 1, 1, 1,\n",
       "       0, 1, 1, 1, 1, 1, 1, 1, 1, 1, 0, 0, 1, 1, 1, 0, 1, 1, 1, 1, 0, 1,\n",
       "       1, 1, 1, 0, 1, 1, 1, 0, 1, 1, 1, 1, 1, 1, 1, 1, 1, 0, 0, 0, 1, 1,\n",
       "       1, 1, 1, 1, 0, 1, 0, 1, 0, 1, 1, 0, 1, 1, 1, 1, 1, 0, 0, 1, 1, 0,\n",
       "       0, 1, 1, 1, 1, 1, 0, 1, 0, 1, 1, 1, 1, 1, 1, 1, 1, 1, 1, 1, 1, 1,\n",
       "       0, 1, 1, 1, 1, 1, 1, 1, 0, 1, 1, 1, 1, 1, 1, 1, 1, 1, 1, 0, 0, 1,\n",
       "       1, 1, 0, 1, 0, 1, 1, 1, 1, 0, 1, 1, 1, 0, 1, 1, 0, 1, 1, 1, 1, 1,\n",
       "       0, 1, 1, 0, 1, 0, 1, 1, 1, 0, 1, 0, 1, 1, 1, 1, 0, 1, 1, 1, 1, 1,\n",
       "       1, 1, 0, 1, 1, 1, 0, 1, 1, 1, 1, 1, 1, 0, 0, 1, 0, 1, 0, 1, 1, 1,\n",
       "       1, 1, 1, 1, 1, 1, 1, 1, 1, 0, 1, 1, 1, 1, 1, 1, 1, 1, 1, 1, 1, 1,\n",
       "       1, 0, 1, 1, 1, 1, 0, 1, 1, 1, 1, 1, 1, 1, 0, 1, 0, 1, 1, 1, 1, 1,\n",
       "       0, 0, 1, 1, 1, 1, 1, 1, 1, 1, 1, 1, 0, 0, 1, 1, 1, 1, 1, 1, 1, 1,\n",
       "       0, 0, 1, 1, 1, 1, 1, 1, 1, 1, 1, 1, 1, 1, 1, 1, 0, 0, 1, 1, 1, 0,\n",
       "       0, 1, 1, 1, 1, 0, 1, 1, 1, 1, 1, 1, 1, 1, 0, 1, 1, 1, 1, 0, 0, 1,\n",
       "       1, 0, 1, 1, 1, 1, 1, 1, 1, 1, 1, 1, 1, 1, 1, 1, 1, 1, 1, 1, 0, 1,\n",
       "       1, 1, 1, 1, 1, 0, 1, 1, 1, 1, 1, 0, 1, 1, 1, 1, 1, 1, 0, 1, 1, 1,\n",
       "       1, 1, 1, 0, 1, 1, 1, 1, 1, 1, 1, 1, 1, 1, 1, 0, 1, 1, 1, 0, 0, 1,\n",
       "       0, 1, 1, 1, 1, 1, 0, 1, 1, 1, 0, 1, 1, 1, 1, 0, 1, 1, 1, 0, 1, 1,\n",
       "       0, 1, 1, 1, 1, 1, 1, 1, 1, 1, 0, 1, 1, 1, 1, 1, 1, 1, 1, 1, 1, 0,\n",
       "       1, 0, 1, 1, 1, 1, 1, 1, 1, 1, 1, 1, 1, 1, 1, 1, 0, 1, 1, 0, 1, 1,\n",
       "       1, 0, 0, 1, 1, 1, 0, 1, 1, 0, 1, 1, 0, 0, 1, 1, 1, 1, 1, 1, 1, 1,\n",
       "       1, 1, 1, 1, 1, 1, 1, 1, 1, 1, 1, 1, 1, 1, 1, 1, 0, 0, 1, 1, 0, 1,\n",
       "       1, 1, 1, 1, 1, 0, 1, 1, 1, 1, 1, 0, 1, 0, 1, 1, 1, 1, 1, 0, 1, 1,\n",
       "       1, 1, 1, 0, 1, 0, 1, 0, 1, 1, 1, 1, 1, 1, 1, 1, 0, 0, 1, 0, 1, 1,\n",
       "       1, 1, 0, 1, 1, 1, 1, 0, 1, 1, 1, 0, 1, 1, 1, 1, 1, 0, 1, 1, 1, 0,\n",
       "       1, 1, 1, 0, 1, 1, 1, 1, 1, 1, 1, 0, 0, 1, 0, 0, 0, 1, 1, 1, 0, 1,\n",
       "       1, 1, 1, 0, 1, 1, 0, 1, 1, 1, 1, 1, 0, 1, 1, 1, 1, 1, 1, 1, 0, 1,\n",
       "       1, 0, 1, 1, 1, 1, 1, 1, 1, 1, 1, 1, 1, 1, 1, 1, 1, 0, 1, 1, 1, 0,\n",
       "       0, 1, 1, 0, 1, 1, 1, 1, 1, 1, 0, 1, 0, 1, 1, 0, 1, 1, 1, 1, 1, 1,\n",
       "       1, 0, 1, 0, 1, 1, 1, 1, 1, 1, 1, 0, 1, 0, 1, 1, 1, 0, 1, 1, 1, 0,\n",
       "       0, 1, 1, 1, 1, 1, 1, 0, 1, 1, 1, 1, 1, 1, 0, 1, 1, 0, 1, 1, 1, 1,\n",
       "       0, 1, 1, 1, 1, 1, 1, 1, 1, 1, 1, 1, 0, 0, 1, 1, 1, 1, 1, 1, 0, 1,\n",
       "       1, 1, 0, 0, 0, 0, 1, 1, 1, 1, 1, 1, 1, 1, 1, 1, 0, 1, 1, 1, 0, 0,\n",
       "       1, 1, 1, 1, 1, 1, 1, 0, 1, 1, 1, 0, 1, 1, 1, 1, 1, 1, 0, 0, 0, 0,\n",
       "       1, 0, 1, 1, 1, 1, 1, 1, 1, 1, 1, 1, 1, 1, 1, 1, 1, 0, 0, 1, 1, 1,\n",
       "       1, 1, 0, 1, 0, 1, 1, 1, 1, 1, 1, 1, 0, 1, 1, 0, 1, 1, 1, 1, 1, 1,\n",
       "       1, 1, 1, 1, 1, 1, 1, 1, 1, 1, 1, 1, 1, 1, 1, 0, 0, 1, 1, 1, 1, 1,\n",
       "       1, 1, 0, 1, 1, 1, 1, 1, 0, 1, 1, 0, 1, 1, 1, 1, 1, 1, 1, 1, 1, 1,\n",
       "       1, 1, 0, 1, 1, 1, 0, 1, 1, 1, 1, 1, 1, 1, 1, 1, 1, 1, 1, 1, 1, 1,\n",
       "       1, 1, 1, 1, 1, 1, 1, 1, 1, 0, 0, 1, 1, 1, 1, 0, 0, 1, 1, 1, 1, 1,\n",
       "       1, 1, 1])"
      ]
     },
     "execution_count": 134,
     "metadata": {},
     "output_type": "execute_result"
    }
   ],
   "source": [
    "# model\n",
    "model = RandomForestClassifier(random_state=0)\n",
    "\n",
    "# fit\n",
    "model.fit(X_train_smote, y_train_smote)\n",
    "\n",
    "# predict\n",
    "y_pred_after_proba =model.predict_proba(X_test_encode_scale)[:,1]\n",
    "\n",
    "y_pred_class = np.where(y_pred_after_proba <0.02, 0, 1)\n",
    "y_pred_class"
   ]
  },
  {
   "cell_type": "code",
   "execution_count": 135,
   "metadata": {},
   "outputs": [
    {
     "data": {
      "image/png": "[encoded data removed]",
      "text/plain": [
       "<Figure size 1200x300 with 6 Axes>"
      ]
     },
     "metadata": {},
     "output_type": "display_data"
    }
   ],
   "source": [
    "plt.figure(figsize=(12,3))\n",
    "\n",
    "plt.subplot(1,3,1)\n",
    "sns.heatmap(confusion_matrix(y_test_encode, y_pred_default), annot=True, fmt='.0f')\n",
    "plt.title('Default Parameter')\n",
    "\n",
    "plt.subplot(1,3,2)\n",
    "sns.heatmap(confusion_matrix(y_test_encode, y_pred_oversampling), annot=True, fmt='.0f');\n",
    "plt.title('After Tuning')\n",
    "\n",
    "plt.subplot(1,3,3)\n",
    "sns.heatmap(confusion_matrix(y_test_encode, y_pred_class), annot=True, fmt='.0f')\n",
    "plt.title('After Threshold');"
   ]
  },
  {
   "cell_type": "markdown",
   "metadata": {},
   "source": [
    "Default Parameter"
   ]
  },
  {
   "cell_type": "code",
   "execution_count": 136,
   "metadata": {},
   "outputs": [
    {
     "name": "stdout",
     "output_type": "stream",
     "text": [
      "recall :  0.40310077519379844\n",
      "precision :  0.5621621621621622\n"
     ]
    }
   ],
   "source": [
    "print('recall : ', recall_score(y_test_encode, y_pred_default))\n",
    "print('precision : ', precision_score(y_test_encode, y_pred_default))"
   ]
  },
  {
   "cell_type": "markdown",
   "metadata": {},
   "source": [
    "After Tuning"
   ]
  },
  {
   "cell_type": "code",
   "execution_count": 137,
   "metadata": {},
   "outputs": [
    {
     "name": "stdout",
     "output_type": "stream",
     "text": [
      "recall :  0.5\n",
      "precision :  0.5201612903225806\n"
     ]
    }
   ],
   "source": [
    "print('recall : ', recall_score(y_test_encode, y_pred_oversampling))\n",
    "print('precision : ', precision_score(y_test_encode, y_pred_oversampling))"
   ]
  },
  {
   "cell_type": "markdown",
   "metadata": {},
   "source": [
    "After Threshold"
   ]
  },
  {
   "cell_type": "code",
   "execution_count": 138,
   "metadata": {},
   "outputs": [
    {
     "name": "stdout",
     "output_type": "stream",
     "text": [
      "recall :  0.9767441860465116\n",
      "precision :  0.3218390804597701\n"
     ]
    }
   ],
   "source": [
    "print('recall : ', recall_score(y_test_encode, y_pred_class))\n",
    "print('precision : ', precision_score(y_test_encode, y_pred_class))"
   ]
  },
  {
   "cell_type": "code",
   "execution_count": 139,
   "metadata": {},
   "outputs": [],
   "source": [
    "pickle.dump(model, open('Project 3 Ryan Adhimukti Prayitno.pkl', 'wb'))"
   ]
  },
  {
   "cell_type": "markdown",
   "metadata": {},
   "source": [
    "## Feature Importances"
   ]
  },
  {
   "cell_type": "code",
   "execution_count": 140,
   "metadata": {},
   "outputs": [
    {
     "data": {
      "image/png": "[encoded data removed]",
      "text/plain": [
       "<Figure size 640x480 with 1 Axes>"
      ]
     },
     "metadata": {},
     "output_type": "display_data"
    }
   ],
   "source": [
    "feature_names = [f\"feature {i}\" for i in range(X.shape[1])]\n",
    "importance = pd.Series(model.feature_importances_, index=df_encode_scale.columns.drop(['Churn'])).sort_values()\n",
    "importance.plot(kind='barh', title='Feature Importances')\n",
    "plt.show()"
   ]
  },
  {
   "cell_type": "markdown",
   "metadata": {},
   "source": [
    "Feature yang paling menyebabkan customer churn adalah biaya layanan bulanan (Monthly Charges) yang besar, Tenure yang pendek, dan kontrak bulanan"
   ]
  },
  {
   "cell_type": "markdown",
   "metadata": {},
   "source": [
    "## Conclusion"
   ]
  },
  {
   "cell_type": "markdown",
   "metadata": {},
   "source": [
    "- Model terbaik menggunakan Random Forest yang telah dituning dengan oversampling SMOTE dan threshold menggunalan PR Curve\n",
    "- Feature yang paling menyebabkan customer churn adalah biaya layanan bulanan (Monthly Charges) yang besar, Tenure yang pendek, dan kontrak bulanan\n",
    "- Dengan model ini, yang diprediksi customer tidak churn tetapi kenyataan sebaliknya berkurang banyak dan customer yang diprediksi churn sebaliknya\n",
    "- Before tuning:\n",
    "    - recall    :  40.31%\n",
    "    - precision :  56.22%\n",
    "- After threshold:\n",
    "    - recall    :  97.67%\n",
    "    - precision :  32.18%"
   ]
  },
  {
   "cell_type": "markdown",
   "metadata": {},
   "source": [
    "## Reccomendation"
   ]
  },
  {
   "cell_type": "markdown",
   "metadata": {},
   "source": [
    "- Data tambahan seperti layanan telepon, streaming saluran tv, dan streaming film\n",
    "- Perhatian khusus terhadap customer yang tenure pendek, dan kontrak bulanan\n",
    "- Penawaran menarik bagi customer dengan biaya layanan tinggi dan kontrak bulanan "
   ]
  }
 ],
 "metadata": {
  "kernelspec": {
   "display_name": "Python 3",
   "language": "python",
   "name": "python3"
  },
  "language_info": {
   "codemirror_mode": {
    "name": "ipython",
    "version": 3
   },
   "file_extension": ".py",
   "mimetype": "text/x-python",
   "name": "python",
   "nbconvert_exporter": "python",
   "pygments_lexer": "ipython3",
   "version": "3.11.4"
  },
  "orig_nbformat": 4
 },
 "nbformat": 4,
 "nbformat_minor": 2
}
